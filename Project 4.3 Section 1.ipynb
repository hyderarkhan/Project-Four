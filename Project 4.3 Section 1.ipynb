{
 "cells": [
  {
   "cell_type": "code",
   "execution_count": 187,
   "metadata": {
    "collapsed": true
   },
   "outputs": [],
   "source": [
    "%run helpers.py\n",
    "%run helpers-Copy1.py\n",
    "%matplotlib inline\n",
    "%config InlineBackend.figure_format = 'retina'\n"
   ]
  },
  {
   "cell_type": "markdown",
   "metadata": {},
   "source": [
    "### Executive Summary"
   ]
  },
  {
   "cell_type": "raw",
   "metadata": {},
   "source": [
    "In this section i will be attempting to try and predict salary based on other features such as title, locations ,etc\n",
    "\n",
    "I utilise the cleaned dataset that store in the EDA section i initially did some inspecting to see which features i would be able to use and especially those that i had a doubt about"
   ]
  },
  {
   "cell_type": "raw",
   "metadata": {},
   "source": [
    "Creating Dummies which means turning the values for each feature into a binary 0 and 1 colummn itself. So the value itself becomes the column and contains all 0s unless, if that value happens to exist in a particular row in the main dataset then it will place a 1.\n",
    "Thus you have a binary 1 and 0\n",
    "\n",
    "I started creating dummies out of different features but i will be only using six :\n",
    "1) Location: Melb, Syd, Perth,etc including regional areas\n",
    "2) Type: fulltime, part-time,etc\n",
    "3) Class(Industry)\n",
    "4) Area: specific areas within each location\n",
    "5) Title\n",
    "6) Description\n",
    "\n",
    "I added a prefix to each dummy in order to differentiate between the dummies when i put them in one dataframe\n",
    "\n",
    "I didn't use Job_id and Level cause there pretty much useless \n",
    "I made dummies for 'sub_class' and 'company' but wasn't sure about them\n",
    "\n",
    "\n",
    "I then made a dataframe out of the dummies and used them as my predictor variable in my models"
   ]
  },
  {
   "cell_type": "raw",
   "metadata": {},
   "source": [
    "The models i used were Logistic Regression and Decision Trees Regresser:\n",
    "\n",
    "1)Logistic regression:\n",
    "        This model is an excellent model at predicting salary because it has a prediction accuracy score of 0.998\n",
    "        which means that it predict with extremely accurate prediction compared to a score of 0.5 which isn't that great\n",
    "        However, the model was impacted by many features that were not really useful and maybe if i had a little more time \n",
    "        i would have been able to clean out the features and find out those features who had a significant impact and\n",
    "        were useful\n",
    "2) Decision Trees:\n",
    "        This Model preformed poorly compared to Logistic Regression with a score of 0.311 but it had alot more significant\n",
    "        impact in terms of its feature usiblity meaning the features that most impacted this model were alot more useable \n",
    "        and actionable unlike Logistic Regression. "
   ]
  },
  {
   "cell_type": "markdown",
   "metadata": {},
   "source": [
    "### So What?"
   ]
  },
  {
   "cell_type": "raw",
   "metadata": {},
   "source": [
    "So what the Models found is that a significant amount of impact came from:\n",
    "\n",
    "1)Titles:\n",
    "Specifically pairs of words within the job titles heavily impact salary in other words utilising searching for jobs with these words in the title will gives us the jobs with the best salary:\n",
    "\n",
    "title_analys big                      2.283985e+14\n",
    "title_ag car                          2.052147e+14\n",
    "title_analystchang man                2.029474e+14\n",
    "etc\n",
    "\n",
    "\n",
    "Other factors and features to look at to find jobs with the highest salaries are:\n",
    "\n",
    "2)Locations/Area:\n",
    "location_Somerset                     3.931242e+14\n",
    "area_Rockingham & Kwinana             1.517283e+14\n",
    "\n",
    "3)Class(industry):\n",
    "class_Information & Communication Technology    3.929134e-01\n",
    "class_Administration & Office Support           1.534829e-01\n",
    "type_Full Time                                  1.031477e-01\n",
    "\n",
    "\n",
    "followed by type and description."
   ]
  },
  {
   "cell_type": "code",
   "execution_count": 188,
   "metadata": {
    "collapsed": true
   },
   "outputs": [],
   "source": [
    "data=pd.read_excel('./cleaned.xls')"
   ]
  },
  {
   "cell_type": "code",
   "execution_count": 189,
   "metadata": {},
   "outputs": [
    {
     "data": {
      "text/plain": [
       "Index([u'area', u'class', u'company', u'date', u'description', u'job_id',\n",
       "       u'level', u'location', u'salary', u'sub_class', u'title', u'type'],\n",
       "      dtype='object')"
      ]
     },
     "execution_count": 189,
     "metadata": {},
     "output_type": "execute_result"
    }
   ],
   "source": [
    "data.columns"
   ]
  },
  {
   "cell_type": "code",
   "execution_count": 190,
   "metadata": {},
   "outputs": [
    {
     "name": "stdout",
     "output_type": "stream",
     "text": [
      "(4335, 12)\n",
      "<class 'pandas.core.frame.DataFrame'>\n",
      "Int64Index: 4335 entries, 0 to 4334\n",
      "Data columns (total 12 columns):\n",
      "area           4335 non-null object\n",
      "class          4335 non-null object\n",
      "company        4335 non-null object\n",
      "date           4335 non-null datetime64[ns]\n",
      "description    4335 non-null object\n",
      "job_id         4335 non-null int64\n",
      "level          4335 non-null object\n",
      "location       4335 non-null object\n",
      "salary         4335 non-null int64\n",
      "sub_class      4335 non-null object\n",
      "title          4335 non-null object\n",
      "type           4335 non-null object\n",
      "dtypes: datetime64[ns](1), int64(2), object(9)\n",
      "memory usage: 440.3+ KB\n",
      "None\n"
     ]
    },
    {
     "data": {
      "text/html": [
       "<div>\n",
       "<style>\n",
       "    .dataframe thead tr:only-child th {\n",
       "        text-align: right;\n",
       "    }\n",
       "\n",
       "    .dataframe thead th {\n",
       "        text-align: left;\n",
       "    }\n",
       "\n",
       "    .dataframe tbody tr th {\n",
       "        vertical-align: top;\n",
       "    }\n",
       "</style>\n",
       "<table border=\"1\" class=\"dataframe\">\n",
       "  <thead>\n",
       "    <tr style=\"text-align: right;\">\n",
       "      <th></th>\n",
       "      <th>area</th>\n",
       "      <th>class</th>\n",
       "      <th>company</th>\n",
       "      <th>date</th>\n",
       "      <th>description</th>\n",
       "      <th>job_id</th>\n",
       "      <th>level</th>\n",
       "      <th>location</th>\n",
       "      <th>salary</th>\n",
       "      <th>sub_class</th>\n",
       "      <th>title</th>\n",
       "      <th>type</th>\n",
       "    </tr>\n",
       "  </thead>\n",
       "  <tbody>\n",
       "    <tr>\n",
       "      <th>0</th>\n",
       "      <td>Southern Suburbs &amp; Logan</td>\n",
       "      <td>Information &amp; Communication Technology</td>\n",
       "      <td>Opus Recruitment Solutions</td>\n",
       "      <td>2017-12-21</td>\n",
       "      <td>DATA SCIENCE SUPERSTARS\\r\\n\\r\\nMODERN OFFICES\\...</td>\n",
       "      <td>35131268</td>\n",
       "      <td>normalJob</td>\n",
       "      <td>Sydney</td>\n",
       "      <td>384</td>\n",
       "      <td>Database Development &amp; Administration</td>\n",
       "      <td>Data Science Leads</td>\n",
       "      <td>Full Time</td>\n",
       "    </tr>\n",
       "    <tr>\n",
       "      <th>1</th>\n",
       "      <td>North Shore &amp; Northern Beaches</td>\n",
       "      <td>Information &amp; Communication Technology</td>\n",
       "      <td>Spark Recruitment</td>\n",
       "      <td>2017-12-21</td>\n",
       "      <td>Take ownership for the strategic development o...</td>\n",
       "      <td>35130098</td>\n",
       "      <td>normalJob</td>\n",
       "      <td>Sydney</td>\n",
       "      <td>576</td>\n",
       "      <td>Product Management &amp; Development</td>\n",
       "      <td>Product Manager - Big Data / Data Analytics</td>\n",
       "      <td>Full Time</td>\n",
       "    </tr>\n",
       "    <tr>\n",
       "      <th>2</th>\n",
       "      <td>CBD, Inner West &amp; Eastern Suburbs</td>\n",
       "      <td>Information &amp; Communication Technology</td>\n",
       "      <td>2XM Technology Pty Ltd</td>\n",
       "      <td>2017-12-21</td>\n",
       "      <td>Data Solution Architect required to work on a ...</td>\n",
       "      <td>35129596</td>\n",
       "      <td>normalJob</td>\n",
       "      <td>Sydney</td>\n",
       "      <td>615</td>\n",
       "      <td>Architects</td>\n",
       "      <td>Big Data Solution Architect</td>\n",
       "      <td>Full Time</td>\n",
       "    </tr>\n",
       "    <tr>\n",
       "      <th>3</th>\n",
       "      <td>CBD &amp; Inner Suburbs</td>\n",
       "      <td>Engineering</td>\n",
       "      <td>Employment Office</td>\n",
       "      <td>2017-12-21</td>\n",
       "      <td>Are you an experienced Surveyor looking for an...</td>\n",
       "      <td>35131526</td>\n",
       "      <td>normalJob</td>\n",
       "      <td>Melbourne</td>\n",
       "      <td>269</td>\n",
       "      <td>Project Engineering</td>\n",
       "      <td>Surveyor Data Manager</td>\n",
       "      <td>Full Time</td>\n",
       "    </tr>\n",
       "    <tr>\n",
       "      <th>4</th>\n",
       "      <td>CBD &amp; Inner Suburbs</td>\n",
       "      <td>Engineering</td>\n",
       "      <td>Employment Office</td>\n",
       "      <td>2017-12-21</td>\n",
       "      <td>Are you an experienced Surveyor looking for an...</td>\n",
       "      <td>35131487</td>\n",
       "      <td>normalJob</td>\n",
       "      <td>Melbourne</td>\n",
       "      <td>269</td>\n",
       "      <td>Civil/Structural Engineering</td>\n",
       "      <td>Surveyor Data Manager</td>\n",
       "      <td>Full Time</td>\n",
       "    </tr>\n",
       "  </tbody>\n",
       "</table>\n",
       "</div>"
      ],
      "text/plain": [
       "                                area                                   class  \\\n",
       "0           Southern Suburbs & Logan  Information & Communication Technology   \n",
       "1     North Shore & Northern Beaches  Information & Communication Technology   \n",
       "2  CBD, Inner West & Eastern Suburbs  Information & Communication Technology   \n",
       "3                CBD & Inner Suburbs                             Engineering   \n",
       "4                CBD & Inner Suburbs                             Engineering   \n",
       "\n",
       "                      company       date  \\\n",
       "0  Opus Recruitment Solutions 2017-12-21   \n",
       "1           Spark Recruitment 2017-12-21   \n",
       "2      2XM Technology Pty Ltd 2017-12-21   \n",
       "3           Employment Office 2017-12-21   \n",
       "4           Employment Office 2017-12-21   \n",
       "\n",
       "                                         description    job_id      level  \\\n",
       "0  DATA SCIENCE SUPERSTARS\\r\\n\\r\\nMODERN OFFICES\\...  35131268  normalJob   \n",
       "1  Take ownership for the strategic development o...  35130098  normalJob   \n",
       "2  Data Solution Architect required to work on a ...  35129596  normalJob   \n",
       "3  Are you an experienced Surveyor looking for an...  35131526  normalJob   \n",
       "4  Are you an experienced Surveyor looking for an...  35131487  normalJob   \n",
       "\n",
       "    location  salary                              sub_class  \\\n",
       "0     Sydney     384  Database Development & Administration   \n",
       "1     Sydney     576       Product Management & Development   \n",
       "2     Sydney     615                             Architects   \n",
       "3  Melbourne     269                    Project Engineering   \n",
       "4  Melbourne     269           Civil/Structural Engineering   \n",
       "\n",
       "                                         title       type  \n",
       "0                           Data Science Leads  Full Time  \n",
       "1  Product Manager - Big Data / Data Analytics  Full Time  \n",
       "2                  Big Data Solution Architect  Full Time  \n",
       "3                        Surveyor Data Manager  Full Time  \n",
       "4                        Surveyor Data Manager  Full Time  "
      ]
     },
     "execution_count": 190,
     "metadata": {},
     "output_type": "execute_result"
    }
   ],
   "source": [
    "print data.shape\n",
    "print data.info()\n",
    "data.head()"
   ]
  },
  {
   "cell_type": "code",
   "execution_count": 191,
   "metadata": {},
   "outputs": [
    {
     "name": "stdout",
     "output_type": "stream",
     "text": [
      "19\n",
      "30\n",
      "258\n",
      "1110\n"
     ]
    }
   ],
   "source": [
    "print len(data['area'].value_counts())\n",
    "print len(data['class'].value_counts())\n",
    "print len(data['sub_class'].value_counts())\n",
    "print len(data['company'].value_counts())"
   ]
  },
  {
   "cell_type": "markdown",
   "metadata": {},
   "source": [
    "### Dummy Creation"
   ]
  },
  {
   "cell_type": "code",
   "execution_count": 192,
   "metadata": {
    "collapsed": true
   },
   "outputs": [],
   "source": [
    "location_dummy = pd.get_dummies(data.location, prefix='location',drop_first=True)\n",
    "type_dummy = pd.get_dummies(data.type, prefix='type',drop_first=True)\n",
    "class_dummy = pd.get_dummies(data['class'], prefix='class',drop_first=True)\n",
    "area_dummy=pd.get_dummies(data.area, prefix='area',drop_first=True)\n",
    "\n",
    "\n",
    "company_dummy=pd.get_dummies(data.company, prefix='level',drop_first=True)\n",
    "sub_class_dummy=pd.get_dummies(data.sub_class, prefix='level',drop_first=True)"
   ]
  },
  {
   "cell_type": "markdown",
   "metadata": {},
   "source": [
    "#### Title column cleaning to make Dummy"
   ]
  },
  {
   "cell_type": "code",
   "execution_count": 193,
   "metadata": {
    "collapsed": true
   },
   "outputs": [],
   "source": [
    "#using these to sort out title and description in order to create dummies\n",
    "letters=string.letters\n",
    "numbers=string.digits\n",
    "elements=string.punctuation"
   ]
  },
  {
   "cell_type": "code",
   "execution_count": 194,
   "metadata": {},
   "outputs": [
    {
     "data": {
      "text/plain": [
       "[['data', 'science', u'lead'],\n",
       " ['product', 'manager', 'big', 'data', 'data', 'analytics'],\n",
       " ['big', 'data', 'solution', 'architect'],\n",
       " ['surveyor', 'data', 'manager'],\n",
       " ['surveyor', 'data', 'manager'],\n",
       " ['data', 'scientist', 'cryptocurrency'],\n",
       " ['business', 'data', 'analyst', 'power', 'bi', 'developer'],\n",
       " ['data', u'insight', 'analyst'],\n",
       " ['research', 'analyst', 'data', 'scientist', 'hedge', 'fund'],\n",
       " ['data', 'architect', 'lucrative', 'contract', u'f', 'sydney', 'cbd']]"
      ]
     },
     "execution_count": 194,
     "metadata": {},
     "output_type": "execute_result"
    }
   ],
   "source": [
    "#Here i am stemming in order to get to the root word so that all similar words [science, sciences, scientist] become one.\n",
    "\n",
    "import unicodedata\n",
    "\n",
    "from nltk.stem import WordNetLemmatizer\n",
    "word_lem = WordNetLemmatizer()\n",
    "\n",
    "from nltk.stem.lancaster import LancasterStemmer\n",
    "lan_stem = LancasterStemmer()# intializing the stemmer\n",
    "lem=[]\n",
    "\n",
    "for item in data['title']:\n",
    "    r=unicodedata.normalize('NFKD', item).encode('ascii','ignore')# turning it into useable string\n",
    "    lemm=r.split(' ')#spliting the words in the string\n",
    "    \n",
    "    for n,it in enumerate(lemm):\n",
    "        #removing punctuation and lowercasing each word\n",
    "        all=string.maketrans('','')\n",
    "        noelements=it.translate(all, elements)\n",
    "        nonumbers=noelements.translate(all, numbers)\n",
    "        lemm[n]=word_lem.lemmatize(nonumbers.lower())\n",
    "        \n",
    "    str_list = filter(None, lemm)#removing empty spaces in the list\n",
    "    lem.append(str_list)#appending each str_list(list) to lem(another string)\n",
    "lem[:10]"
   ]
  },
  {
   "cell_type": "code",
   "execution_count": 195,
   "metadata": {},
   "outputs": [
    {
     "data": {
      "text/plain": [
       "[u'data science lead',\n",
       " 'product manager big data data analytics',\n",
       " 'big data solution architect',\n",
       " 'surveyor data manager',\n",
       " 'surveyor data manager',\n",
       " 'data scientist cryptocurrency',\n",
       " 'business data analyst power bi developer',\n",
       " u'data insight analyst',\n",
       " 'research analyst data scientist hedge fund',\n",
       " u'data architect lucrative contract f sydney cbd']"
      ]
     },
     "execution_count": 195,
     "metadata": {},
     "output_type": "execute_result"
    }
   ],
   "source": [
    "#joining them back into one string after stemming and removing unnecessary elements\n",
    "for n,item in enumerate(lem):\n",
    "    str1 = ' '.join(item)\n",
    "    lem[n]=str1\n",
    "lem[:10]"
   ]
  },
  {
   "cell_type": "code",
   "execution_count": 196,
   "metadata": {
    "collapsed": true
   },
   "outputs": [],
   "source": [
    "#re-valuing the title column to create dummies\n",
    "data['title']=lem"
   ]
  },
  {
   "cell_type": "code",
   "execution_count": 197,
   "metadata": {},
   "outputs": [
    {
     "data": {
      "text/plain": [
       "title_business analyst         184\n",
       "title_project manager           91\n",
       "title_business development      86\n",
       "title_development manager       82\n",
       "title_management accountant     81\n",
       "dtype: int64"
      ]
     },
     "execution_count": 197,
     "metadata": {},
     "output_type": "execute_result"
    }
   ],
   "source": [
    "# Here i create a dataframe of words from the title column:\n",
    "from sklearn.feature_extraction.text import CountVectorizer\n",
    "\n",
    "#Setting the vectorizer just like we would set a model and it will count the word in singles and any pair it can make\n",
    "#Also the useless words are removed\n",
    "cvec = CountVectorizer(stop_words = \"english\",ngram_range=(2,2))\n",
    "\n",
    "#Fitting the vectorizer on our training data\n",
    "cvec.fit(data['title'])\n",
    "\n",
    "# The values are 0 or 1 if they exist in the that title/row\n",
    "X_train = pd.DataFrame(cvec.transform(data[\"title\"]).todense(),\n",
    "                     columns = cvec.get_feature_names())\n",
    "\n",
    "#adding a prefix to be able to differentiate between dummies\n",
    "X_train=X_train.add_prefix('title_')\n",
    " \n",
    "words_counts = X_train.sum(axis=0)\n",
    "words_counts.sort_values(ascending = False).head()"
   ]
  },
  {
   "cell_type": "markdown",
   "metadata": {},
   "source": [
    "#### Description column cleaning to make dummy"
   ]
  },
  {
   "cell_type": "code",
   "execution_count": 198,
   "metadata": {},
   "outputs": [
    {
     "name": "stdout",
     "output_type": "stream",
     "text": [
      "['data science superstars\\r\\n\\r\\nmodern offices\\r\\n\\r\\nsyd cbd\\r\\n\\r\\nattractive salary', u'take ownership for the strategic development of these large scale big data data analytics product this role is globally focused so offer scale', 'data solution architect required to work on a massive new big data implementation project', 'are you an experienced surveyor looking for an office based role do you have civilcommercial experience join this growing org on a ft basis', 'are you an experienced surveyor looking for an office based role do you have civilcommercial experience join this growing org on a ft basis']\n"
     ]
    }
   ],
   "source": [
    "lem=[]\n",
    "\n",
    "for item in data['description']:\n",
    "    r=unicodedata.normalize('NFKD', item).encode('ascii','ignore')# turning it into useable string\n",
    "    lemm=r.split(' ')#spliting the words in the string\n",
    "    \n",
    "    for n,it in enumerate(lemm):\n",
    "        all=string.maketrans('','')\n",
    "        noelements=it.translate(all, elements)\n",
    "        nonumbers=noelements.translate(all, numbers)\n",
    "        lemm[n]=word_lem.lemmatize(nonumbers.lower())\n",
    "        \n",
    "    str_list = filter(None, lemm)#removing empty spaces in the list\n",
    "    lem.append(str_list)#appending each str_list(list) to lem(another string)\n",
    "\n",
    "for n,item in enumerate(lem):\n",
    "    str1 = ' '.join(item)\n",
    "    lem[n]=str1\n",
    "print lem[:5]\n",
    "\n",
    "data['description']=lem"
   ]
  },
  {
   "cell_type": "code",
   "execution_count": 199,
   "metadata": {},
   "outputs": [
    {
     "data": {
      "text/plain": [
       "description_opportunity    940\n",
       "description_join           850\n",
       "description_team           792\n",
       "description_role           682\n",
       "description_business       643\n",
       "dtype: int64"
      ]
     },
     "execution_count": 199,
     "metadata": {},
     "output_type": "execute_result"
    }
   ],
   "source": [
    "cvec = CountVectorizer(stop_words = \"english\",ngram_range=(1,1))\n",
    "\n",
    "cvec.fit(data['description'])\n",
    "\n",
    "D_train = pd.DataFrame(cvec.transform(data[\"description\"]).todense(),\n",
    "                     columns = cvec.get_feature_names())\n",
    "\n",
    "D_train=D_train.add_prefix('description_')\n",
    " \n",
    "words_counts = D_train.sum(axis=0)\n",
    "words_counts.sort_values(ascending = False).head()"
   ]
  },
  {
   "cell_type": "markdown",
   "metadata": {},
   "source": [
    "### Making a dataframe out of the Dummies"
   ]
  },
  {
   "cell_type": "code",
   "execution_count": 200,
   "metadata": {
    "collapsed": true
   },
   "outputs": [],
   "source": [
    "#Making a dataframe out of the dummies\n",
    "dummies=pd.concat([class_dummy,location_dummy,type_dummy,area_dummy],axis=1)\n",
    "#resetting to allow concatenation between dummies and title dummy(X_train)\n",
    "dummies.reset_index(drop=True,inplace=True)"
   ]
  },
  {
   "cell_type": "code",
   "execution_count": 201,
   "metadata": {},
   "outputs": [
    {
     "name": "stdout",
     "output_type": "stream",
     "text": [
      "<class 'pandas.core.frame.DataFrame'>\n",
      "RangeIndex: 4335 entries, 0 to 4334\n",
      "Columns: 10275 entries, class_Administration & Office Support to description_zest\n",
      "dtypes: int64(10176), uint8(99)\n",
      "memory usage: 337.0 MB\n"
     ]
    }
   ],
   "source": [
    "# adding the title dummy to the other dummies after resetting index\n",
    "dum=pd.concat([dummies,X_train,D_train],axis=1)\n",
    "dum.info()"
   ]
  },
  {
   "cell_type": "code",
   "execution_count": null,
   "metadata": {
    "collapsed": true
   },
   "outputs": [],
   "source": []
  },
  {
   "cell_type": "code",
   "execution_count": 214,
   "metadata": {
    "collapsed": true
   },
   "outputs": [],
   "source": [
    "x_train, x_test, y_train, y_test=train_test_split(dum,data.salary,test_size=0.50)"
   ]
  },
  {
   "cell_type": "markdown",
   "metadata": {},
   "source": [
    "# Modelling:\n",
    "### Linear Regression"
   ]
  },
  {
   "cell_type": "code",
   "execution_count": 215,
   "metadata": {
    "collapsed": true
   },
   "outputs": [],
   "source": [
    "lm = LinearRegression()\n",
    "\n",
    "X = x_train\n",
    "y = y_train"
   ]
  },
  {
   "cell_type": "code",
   "execution_count": 216,
   "metadata": {
    "collapsed": true
   },
   "outputs": [],
   "source": [
    "model = lm.fit(X, y)"
   ]
  },
  {
   "cell_type": "code",
   "execution_count": 217,
   "metadata": {
    "collapsed": true
   },
   "outputs": [],
   "source": [
    "predictions  =  model.predict(x_test)\n",
    "score        =  model.score(x_test, y_test)"
   ]
  },
  {
   "cell_type": "code",
   "execution_count": 218,
   "metadata": {},
   "outputs": [
    {
     "name": "stdout",
     "output_type": "stream",
     "text": [
      "[  4.38286126e+13   5.52944682e+13  -1.26901546e+12 ...,   3.84450337e+13\n",
      "  -1.65948284e+13   9.51908140e+13]\n",
      "-1.83932336689e+24\n"
     ]
    }
   ],
   "source": [
    "print predictions\n",
    "print score"
   ]
  },
  {
   "cell_type": "code",
   "execution_count": 219,
   "metadata": {
    "scrolled": true
   },
   "outputs": [
    {
     "data": {
      "image/png": "[encoded data removed]",
      "text/plain": [
       "<matplotlib.figure.Figure at 0x21fefd68>"
      ]
     },
     "metadata": {
      "image/png": {
       "height": 484,
       "width": 508
      }
     },
     "output_type": "display_data"
    },
    {
     "name": "stdout",
     "output_type": "stream",
     "text": [
      "score:  -1.83932336689e+24\n"
     ]
    }
   ],
   "source": [
    "# Plot the model\n",
    "plt.figure(figsize=(8,8))\n",
    "plt.scatter(predictions, y_test, s=30, c='r', marker='+', zorder=10)\n",
    "plt.xlabel(\"Predicted Values of salary - $\\hat{y}$\")\n",
    "plt.ylabel(\"Actual Values salary - y\")\n",
    "plt.show()\n",
    "\n",
    "print \"score: \", score"
   ]
  },
  {
   "cell_type": "code",
   "execution_count": 220,
   "metadata": {},
   "outputs": [
    {
     "name": "stdout",
     "output_type": "stream",
     "text": [
      "4542\n"
     ]
    }
   ],
   "source": [
    "from collections import Counter\n",
    "\n",
    "#to see how many columns have the same coefficients:\n",
    "print len(model.coef_)-len(Counter(model.coef_).keys())"
   ]
  },
  {
   "cell_type": "code",
   "execution_count": 221,
   "metadata": {},
   "outputs": [
    {
     "ename": "AssertionError",
     "evalue": "99 columns passed, passed data had 10275 columns",
     "output_type": "error",
     "traceback": [
      "\u001b[1;31m---------------------------------------------------------------------------\u001b[0m",
      "\u001b[1;31mAssertionError\u001b[0m                            Traceback (most recent call last)",
      "\u001b[1;32m<ipython-input-221-f95d929284a5>\u001b[0m in \u001b[0;36m<module>\u001b[1;34m()\u001b[0m\n\u001b[0;32m      1\u001b[0m \u001b[1;31m#creating a dateframe for the coefficients and there X predictors:\u001b[0m\u001b[1;33m\u001b[0m\u001b[1;33m\u001b[0m\u001b[0m\n\u001b[0;32m      2\u001b[0m \u001b[1;31m# and sorting them to see which is the most impactful\u001b[0m\u001b[1;33m\u001b[0m\u001b[1;33m\u001b[0m\u001b[0m\n\u001b[1;32m----> 3\u001b[1;33m \u001b[0mcoef\u001b[0m\u001b[1;33m=\u001b[0m\u001b[0mpd\u001b[0m\u001b[1;33m.\u001b[0m\u001b[0mDataFrame\u001b[0m\u001b[1;33m(\u001b[0m\u001b[1;33m[\u001b[0m\u001b[0mmodel\u001b[0m\u001b[1;33m.\u001b[0m\u001b[0mcoef_\u001b[0m\u001b[1;33m]\u001b[0m\u001b[1;33m,\u001b[0m \u001b[0mcolumns\u001b[0m\u001b[1;33m=\u001b[0m\u001b[0mdummies\u001b[0m\u001b[1;33m.\u001b[0m\u001b[0mcolumns\u001b[0m\u001b[1;33m)\u001b[0m\u001b[1;33m\u001b[0m\u001b[0m\n\u001b[0m\u001b[0;32m      4\u001b[0m \u001b[0mcoef\u001b[0m\u001b[1;33m=\u001b[0m\u001b[0mcoef\u001b[0m\u001b[1;33m.\u001b[0m\u001b[0mabs\u001b[0m\u001b[1;33m(\u001b[0m\u001b[1;33m)\u001b[0m\u001b[1;33m\u001b[0m\u001b[0m\n\u001b[0;32m      5\u001b[0m \u001b[0mcoef\u001b[0m\u001b[1;33m.\u001b[0m\u001b[0msum\u001b[0m\u001b[1;33m(\u001b[0m\u001b[1;33m)\u001b[0m\u001b[1;33m.\u001b[0m\u001b[0msort_values\u001b[0m\u001b[1;33m(\u001b[0m\u001b[0mascending\u001b[0m\u001b[1;33m=\u001b[0m\u001b[0mFalse\u001b[0m\u001b[1;33m)\u001b[0m\u001b[1;33m.\u001b[0m\u001b[0mhead\u001b[0m\u001b[1;33m(\u001b[0m\u001b[1;36m10\u001b[0m\u001b[1;33m)\u001b[0m\u001b[1;33m\u001b[0m\u001b[0m\n",
      "\u001b[1;32mC:\\Users\\affu\\Anaconda2\\lib\\site-packages\\pandas\\core\\frame.pyc\u001b[0m in \u001b[0;36m__init__\u001b[1;34m(self, data, index, columns, dtype, copy)\u001b[0m\n\u001b[0;32m    312\u001b[0m                     \u001b[1;32mif\u001b[0m \u001b[0mis_named_tuple\u001b[0m\u001b[1;33m(\u001b[0m\u001b[0mdata\u001b[0m\u001b[1;33m[\u001b[0m\u001b[1;36m0\u001b[0m\u001b[1;33m]\u001b[0m\u001b[1;33m)\u001b[0m \u001b[1;32mand\u001b[0m \u001b[0mcolumns\u001b[0m \u001b[1;32mis\u001b[0m \u001b[0mNone\u001b[0m\u001b[1;33m:\u001b[0m\u001b[1;33m\u001b[0m\u001b[0m\n\u001b[0;32m    313\u001b[0m                         \u001b[0mcolumns\u001b[0m \u001b[1;33m=\u001b[0m \u001b[0mdata\u001b[0m\u001b[1;33m[\u001b[0m\u001b[1;36m0\u001b[0m\u001b[1;33m]\u001b[0m\u001b[1;33m.\u001b[0m\u001b[0m_fields\u001b[0m\u001b[1;33m\u001b[0m\u001b[0m\n\u001b[1;32m--> 314\u001b[1;33m                     \u001b[0marrays\u001b[0m\u001b[1;33m,\u001b[0m \u001b[0mcolumns\u001b[0m \u001b[1;33m=\u001b[0m \u001b[0m_to_arrays\u001b[0m\u001b[1;33m(\u001b[0m\u001b[0mdata\u001b[0m\u001b[1;33m,\u001b[0m \u001b[0mcolumns\u001b[0m\u001b[1;33m,\u001b[0m \u001b[0mdtype\u001b[0m\u001b[1;33m=\u001b[0m\u001b[0mdtype\u001b[0m\u001b[1;33m)\u001b[0m\u001b[1;33m\u001b[0m\u001b[0m\n\u001b[0m\u001b[0;32m    315\u001b[0m                     \u001b[0mcolumns\u001b[0m \u001b[1;33m=\u001b[0m \u001b[0m_ensure_index\u001b[0m\u001b[1;33m(\u001b[0m\u001b[0mcolumns\u001b[0m\u001b[1;33m)\u001b[0m\u001b[1;33m\u001b[0m\u001b[0m\n\u001b[0;32m    316\u001b[0m \u001b[1;33m\u001b[0m\u001b[0m\n",
      "\u001b[1;32mC:\\Users\\affu\\Anaconda2\\lib\\site-packages\\pandas\\core\\frame.pyc\u001b[0m in \u001b[0;36m_to_arrays\u001b[1;34m(data, columns, coerce_float, dtype)\u001b[0m\n\u001b[0;32m   5637\u001b[0m         \u001b[0mdata\u001b[0m \u001b[1;33m=\u001b[0m \u001b[0mlmap\u001b[0m\u001b[1;33m(\u001b[0m\u001b[0mtuple\u001b[0m\u001b[1;33m,\u001b[0m \u001b[0mdata\u001b[0m\u001b[1;33m)\u001b[0m\u001b[1;33m\u001b[0m\u001b[0m\n\u001b[0;32m   5638\u001b[0m         return _list_to_arrays(data, columns, coerce_float=coerce_float,\n\u001b[1;32m-> 5639\u001b[1;33m                                dtype=dtype)\n\u001b[0m\u001b[0;32m   5640\u001b[0m \u001b[1;33m\u001b[0m\u001b[0m\n\u001b[0;32m   5641\u001b[0m \u001b[1;33m\u001b[0m\u001b[0m\n",
      "\u001b[1;32mC:\\Users\\affu\\Anaconda2\\lib\\site-packages\\pandas\\core\\frame.pyc\u001b[0m in \u001b[0;36m_list_to_arrays\u001b[1;34m(data, columns, coerce_float, dtype)\u001b[0m\n\u001b[0;32m   5694\u001b[0m         \u001b[0mcontent\u001b[0m \u001b[1;33m=\u001b[0m \u001b[0mlist\u001b[0m\u001b[1;33m(\u001b[0m\u001b[0mlib\u001b[0m\u001b[1;33m.\u001b[0m\u001b[0mto_object_array\u001b[0m\u001b[1;33m(\u001b[0m\u001b[0mdata\u001b[0m\u001b[1;33m)\u001b[0m\u001b[1;33m.\u001b[0m\u001b[0mT\u001b[0m\u001b[1;33m)\u001b[0m\u001b[1;33m\u001b[0m\u001b[0m\n\u001b[0;32m   5695\u001b[0m     return _convert_object_array(content, columns, dtype=dtype,\n\u001b[1;32m-> 5696\u001b[1;33m                                  coerce_float=coerce_float)\n\u001b[0m\u001b[0;32m   5697\u001b[0m \u001b[1;33m\u001b[0m\u001b[0m\n\u001b[0;32m   5698\u001b[0m \u001b[1;33m\u001b[0m\u001b[0m\n",
      "\u001b[1;32mC:\\Users\\affu\\Anaconda2\\lib\\site-packages\\pandas\\core\\frame.pyc\u001b[0m in \u001b[0;36m_convert_object_array\u001b[1;34m(content, columns, coerce_float, dtype)\u001b[0m\n\u001b[0;32m   5753\u001b[0m             \u001b[1;31m# caller's responsibility to check for this...\u001b[0m\u001b[1;33m\u001b[0m\u001b[1;33m\u001b[0m\u001b[0m\n\u001b[0;32m   5754\u001b[0m             raise AssertionError('%d columns passed, passed data had %s '\n\u001b[1;32m-> 5755\u001b[1;33m                                  'columns' % (len(columns), len(content)))\n\u001b[0m\u001b[0;32m   5756\u001b[0m \u001b[1;33m\u001b[0m\u001b[0m\n\u001b[0;32m   5757\u001b[0m     \u001b[1;31m# provide soft conversion of object dtypes\u001b[0m\u001b[1;33m\u001b[0m\u001b[1;33m\u001b[0m\u001b[0m\n",
      "\u001b[1;31mAssertionError\u001b[0m: 99 columns passed, passed data had 10275 columns"
     ]
    }
   ],
   "source": [
    "#creating a dateframe for the coefficients and there X predictors:\n",
    "# and sorting them to see which is the most impactful\n",
    "coef=pd.DataFrame([model.coef_], columns=dummies.columns)\n",
    "coef=coef.abs()\n",
    "coef.sum().sort_values(ascending=False).head(10)"
   ]
  },
  {
   "cell_type": "markdown",
   "metadata": {
    "collapsed": true
   },
   "source": [
    "### Decision Trees:"
   ]
  },
  {
   "cell_type": "code",
   "execution_count": 222,
   "metadata": {
    "collapsed": true
   },
   "outputs": [],
   "source": [
    "from sklearn.tree import DecisionTreeClassifier, DecisionTreeRegressor\n",
    "\n",
    "# making the variables\n",
    "X, Y = x_train, y_train\n",
    "\n",
    "# classifier = DecisionTreeClassifier(criterion='gini',\n",
    "#                                     max_depth=None)\n",
    "\n",
    "\n",
    "regressor = DecisionTreeRegressor(criterion='mse',\n",
    "                                  max_depth=5)\n",
    "regress= regressor.fit(X, Y)\n",
    "\n",
    "Y_pred = regressor.predict(x_test)\n",
    "score  =  regress.score(x_test, y_test)\n",
    "\n",
    "# decision trees can give us feature importances. the higher the number the more important\n",
    "feature_importances = regressor.feature_importances_\n"
   ]
  },
  {
   "cell_type": "code",
   "execution_count": 223,
   "metadata": {},
   "outputs": [
    {
     "name": "stdout",
     "output_type": "stream",
     "text": [
      "[ 367.70497427  367.70497427  562.1369863  ...,  442.96        562.1369863\n",
      "  562.1369863 ]\n",
      "0.199743240719\n"
     ]
    }
   ],
   "source": [
    "print Y_pred\n",
    "print score "
   ]
  },
  {
   "cell_type": "code",
   "execution_count": 224,
   "metadata": {
    "collapsed": true
   },
   "outputs": [],
   "source": [
    "from sklearn.metrics import accuracy_score"
   ]
  },
  {
   "cell_type": "code",
   "execution_count": 226,
   "metadata": {},
   "outputs": [
    {
     "name": "stdout",
     "output_type": "stream",
     "text": [
      "[ 0.294663    0.12581889  0.32449794  0.33342198  0.1827227 ]\n",
      "0.252224901787\n",
      "0.0829775684767\n"
     ]
    }
   ],
   "source": [
    "#Predicting using cross validation of 5 \n",
    "# predictions = cross_val_predict(regressor, x_test, y_test,cv=5)\n",
    "score  =  cross_val_score(regressor, x_test, y_test,cv=5)\n",
    "\n",
    "print score\n",
    "print score.mean()\n",
    "print score.std()\n",
    "# print accuracy_score(y_test, predictions)"
   ]
  },
  {
   "cell_type": "code",
   "execution_count": 227,
   "metadata": {},
   "outputs": [
    {
     "data": {
      "image/png": "[encoded data removed]",
      "text/plain": [
       "<matplotlib.figure.Figure at 0x2222af28>"
      ]
     },
     "metadata": {
      "image/png": {
       "height": 484,
       "width": 518
      }
     },
     "output_type": "display_data"
    },
    {
     "name": "stdout",
     "output_type": "stream",
     "text": [
      "score:  [ 0.294663    0.12581889  0.32449794  0.33342198  0.1827227 ]\n"
     ]
    }
   ],
   "source": [
    "# Plot the model\n",
    "plt.figure(figsize=(8,8))\n",
    "plt.scatter(Y_pred, y_test, s=30, c='r', marker='+', zorder=10)\n",
    "plt.xlabel(\"Predicted Values of salary - $\\hat{y}$\")\n",
    "plt.ylabel(\"Actual Values salary - y\")\n",
    "plt.show()\n",
    "\n",
    "print \"score: \", score"
   ]
  },
  {
   "cell_type": "code",
   "execution_count": 228,
   "metadata": {},
   "outputs": [
    {
     "name": "stdout",
     "output_type": "stream",
     "text": [
      "10252\n"
     ]
    }
   ],
   "source": [
    "from collections import Counter\n",
    "\n",
    "#to see how many columns have the same coefficients:\n",
    "print len(feature_importances)-len(Counter(feature_importances).keys())"
   ]
  },
  {
   "cell_type": "code",
   "execution_count": 230,
   "metadata": {},
   "outputs": [
    {
     "data": {
      "text/plain": [
       "class_Information & Communication Technology    0.323841\n",
       "class_Administration & Office Support           0.159664\n",
       "class_Construction                              0.081198\n",
       "type_Contract/Temp                              0.073346\n",
       "description_channel                             0.042087\n",
       "area_CBD, Inner West & Eastern Suburbs          0.041780\n",
       "description_business                            0.032523\n",
       "description_great                               0.031784\n",
       "title_solution architect                        0.029262\n",
       "description_working                             0.028046\n",
       "title_officer level                             0.027362\n",
       "location_Sydney                                 0.020007\n",
       "title_rise residential                          0.019856\n",
       "description_hp                                  0.015989\n",
       "title_sale manager                              0.015640\n",
       "description_strong                              0.014059\n",
       "description_developer                           0.012474\n",
       "description_advanced                            0.009918\n",
       "title_ict program                               0.008568\n",
       "title_manager acsacs                            0.006412\n",
       "description_amazing                             0.006155\n",
       "title_project manager                           0.000030\n",
       "title_medium volume                             0.000000\n",
       "title_melbourne day                             0.000000\n",
       "title_medium business                           0.000000\n",
       "title_medium billing                            0.000000\n",
       "title_melbourne focus                           0.000000\n",
       "title_medium assistant                          0.000000\n",
       "title_medium agency                             0.000000\n",
       "title_melbourne contract                        0.000000\n",
       "                                                  ...   \n",
       "description_diabetes                            0.000000\n",
       "description_difficult                           0.000000\n",
       "description_dfv                                 0.000000\n",
       "description_devs                                0.000000\n",
       "description_devops                              0.000000\n",
       "description_devise                              0.000000\n",
       "description_devicehealthcare                    0.000000\n",
       "description_device                              0.000000\n",
       "description_developmentenhancement              0.000000\n",
       "description_different                           0.000000\n",
       "description_digital                             0.000000\n",
       "description_discovery                           0.000000\n",
       "description_director                            0.000000\n",
       "description_discover                            0.000000\n",
       "description_discount                            0.000000\n",
       "description_discipline                          0.000000\n",
       "description_disc                                0.000000\n",
       "description_disappoint                          0.000000\n",
       "description_disability                          0.000000\n",
       "description_directory                           0.000000\n",
       "description_directly                            0.000000\n",
       "description_digitally                           0.000000\n",
       "description_direction                           0.000000\n",
       "description_directing                           0.000000\n",
       "description_directed                            0.000000\n",
       "description_direct                              0.000000\n",
       "description_diploma                             0.000000\n",
       "description_diligently                          0.000000\n",
       "description_diligent                            0.000000\n",
       "title_student work                              0.000000\n",
       "Length: 10275, dtype: float64"
      ]
     },
     "execution_count": 230,
     "metadata": {},
     "output_type": "execute_result"
    }
   ],
   "source": [
    "#creating a dateframe for the coefficients and there X predictors:\n",
    "# and sorting them to see which is the most impactful\n",
    "trees_coef=pd.DataFrame([feature_importances], columns=dum.columns)\n",
    "trees_coef=trees_coef.abs()\n",
    "trees_coef.sum().sort_values(ascending=False)"
   ]
  },
  {
   "cell_type": "markdown",
   "metadata": {},
   "source": [
    "### Conclusion"
   ]
  },
  {
   "cell_type": "raw",
   "metadata": {},
   "source": [
    "Both the models are positive while Linear Regression did preform alot better than Decision Trees however i believe Decision Trees is a slightly better model at providing useful Predictors such as (class_Information & Communication Technology) this is more useable and more actionable than Linear Regression\n",
    "ALthought with a bit of cleaning and poking around Linear Regression will give us useful insights and more actionable X_predictors but this will obviously require more work and is very tedious.\n",
    "\n",
    "overall i am very happy with the way i did this section"
   ]
  },
  {
   "cell_type": "code",
   "execution_count": null,
   "metadata": {
    "collapsed": true
   },
   "outputs": [],
   "source": [
    "#saving the dummies file to use in section 2\n",
    "dummies.to_excel('./dummies.xls')"
   ]
  },
  {
   "cell_type": "code",
   "execution_count": 5,
   "metadata": {},
   "outputs": [
    {
     "data": {
      "text/plain": [
       "30720"
      ]
     },
     "execution_count": 5,
     "metadata": {},
     "output_type": "execute_result"
    }
   ],
   "source": [
    "8*5*48*16"
   ]
  },
  {
   "cell_type": "code",
   "execution_count": null,
   "metadata": {
    "collapsed": true
   },
   "outputs": [],
   "source": []
  }
 ],
 "metadata": {
  "kernelspec": {
   "display_name": "Python 2",
   "language": "python",
   "name": "python2"
  },
  "language_info": {
   "codemirror_mode": {
    "name": "ipython",
    "version": 2
   },
   "file_extension": ".py",
   "mimetype": "text/x-python",
   "name": "python",
   "nbconvert_exporter": "python",
   "pygments_lexer": "ipython2",
   "version": "2.7.13"
  }
 },
 "nbformat": 4,
 "nbformat_minor": 2
}
