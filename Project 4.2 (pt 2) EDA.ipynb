{
 "cells": [
  {
   "cell_type": "code",
   "execution_count": 1,
   "metadata": {
    "collapsed": true
   },
   "outputs": [],
   "source": [
    "# importing all my revelant packages and imports\n",
    "\n",
    "%run helpers.py\n",
    "%run helpers-Copy1.py\n",
    "%matplotlib inline\n",
    "%config InlineBackend.figure_format = 'retina'\n",
    "\n"
   ]
  },
  {
   "cell_type": "markdown",
   "metadata": {},
   "source": [
    "### Executive Summary"
   ]
  },
  {
   "cell_type": "raw",
   "metadata": {},
   "source": [
    "Now the data needed to be cleaned because there were so many null values in salary and company.\n",
    "So i started with general cleaning before starting to clean the salaries:\n",
    "1) First i deleted all duplicates \n",
    "2) converted the Date to a useable datetime format\n",
    "3) cleaned and simplified the locations\n",
    "4) removed all null values in Salary and Company\n",
    "\n",
    "which left me with 6133 jobs however they still require intensive clening in terms of salaries"
   ]
  },
  {
   "cell_type": "raw",
   "metadata": {},
   "source": [
    "Salary contains alot of problems that need to be cleaned\n",
    "\n",
    "Firstly converting all salary formats into one useable format such as per anumm( which i changed to per day based on your recommendation)\n",
    "\n",
    "So in order to achieve this i realised there are four main forms of salary formats:\n",
    "1)a per anumm range[100000-150000]\n",
    "        Note:\n",
    "        i chose the bottom value for each range because i believe that recruiters are more likely \n",
    "        to that amount rather than the upper value\n",
    "        i also realise this is an assumption but it doesn't raise any issue in terms of analysis\n",
    "        because even if it is the lower value it can still tell us alot in terms of the range so if the range is \n",
    "        [170000-200000] that is still higher than [100000-170000](even if the ranges vary)\n",
    "2)K value:[150k-160k]\n",
    "        Convert the k into '000' and use bottom range\n",
    "3)per day:[700-900 per day]\n",
    "        convert them up to per anumm\n",
    "        Note: there were a few(10 or so) values that were above 1500 which i assumed were an error caused by the cleaning \n",
    "        of step 2 'K' which might have added extra 000 so those values i removed purely because they were so small\n",
    "        \n",
    "4)per hour:[60 per hour]\n",
    "        convert them up to per anumm\n",
    "        Note: There some values maybe(20 or so) which were between 70 and 250 but i wasn't sure whether they were per anumm\n",
    "        without the 'k' or per hour and they seemed very low to be per day so i calculated them as both and got the average\n",
    "        \n",
    "Lastly after all the cleaning and converting if there was any value that was smaller or larger than[40,000-300,000] i got \n",
    "rid of them cause they didn't make any sense and were probably corrupted by my cleaning, however since there weren't many and \n",
    "the limit was 1000 and i have over 6000 i decided it was fine to sacrifice these."
   ]
  },
  {
   "cell_type": "code",
   "execution_count": 49,
   "metadata": {
    "collapsed": true
   },
   "outputs": [],
   "source": [
    "#importing the scraped data from previous notebook\n",
    "scraped=pd.read_excel('./scraped.xls')"
   ]
  },
  {
   "cell_type": "code",
   "execution_count": 62,
   "metadata": {
    "collapsed": true
   },
   "outputs": [],
   "source": [
    "test=pd.DataFrame(scraped[scraped.salary.isnull()])"
   ]
  },
  {
   "cell_type": "code",
   "execution_count": 89,
   "metadata": {
    "collapsed": true
   },
   "outputs": [],
   "source": [
    "test1=pd.DataFrame(test.drop(['salary'],axis=1))\n",
    "# test1[test1.isnull()==True]\n",
    "test1.isnull().sum()\n",
    "test1.drop(['company'],axis=1,inplace=True)\n",
    "cleanned=pd.DataFrame(test1.drop(1))\n",
    "cleanned.isnull().sum()\n",
    "cleanned.to_excel('./test.xls')"
   ]
  },
  {
   "cell_type": "code",
   "execution_count": 3,
   "metadata": {},
   "outputs": [
    {
     "data": {
      "text/plain": [
       "Index([u'area', u'class', u'company', u'date', u'description', u'job_id',\n",
       "       u'level', u'location', u'salary', u'sub_class', u'title', u'type'],\n",
       "      dtype='object')"
      ]
     },
     "execution_count": 3,
     "metadata": {},
     "output_type": "execute_result"
    }
   ],
   "source": [
    "#checking it out\n",
    "scraped.columns"
   ]
  },
  {
   "cell_type": "code",
   "execution_count": 4,
   "metadata": {
    "scrolled": true
   },
   "outputs": [
    {
     "name": "stdout",
     "output_type": "stream",
     "text": [
      "(30312, 12)\n",
      "<class 'pandas.core.frame.DataFrame'>\n",
      "Int64Index: 30312 entries, 1 to 30312\n",
      "Data columns (total 12 columns):\n",
      "area           30311 non-null object\n",
      "class          30311 non-null object\n",
      "company        21172 non-null object\n",
      "date           30311 non-null object\n",
      "description    30312 non-null object\n",
      "job_id         30312 non-null int64\n",
      "level          30312 non-null object\n",
      "location       30311 non-null object\n",
      "salary         9976 non-null object\n",
      "sub_class      30311 non-null object\n",
      "title          30311 non-null object\n",
      "type           30311 non-null object\n",
      "dtypes: int64(1), object(11)\n",
      "memory usage: 3.0+ MB\n",
      "None\n"
     ]
    },
    {
     "data": {
      "text/html": [
       "<div>\n",
       "<style>\n",
       "    .dataframe thead tr:only-child th {\n",
       "        text-align: right;\n",
       "    }\n",
       "\n",
       "    .dataframe thead th {\n",
       "        text-align: left;\n",
       "    }\n",
       "\n",
       "    .dataframe tbody tr th {\n",
       "        vertical-align: top;\n",
       "    }\n",
       "</style>\n",
       "<table border=\"1\" class=\"dataframe\">\n",
       "  <thead>\n",
       "    <tr style=\"text-align: right;\">\n",
       "      <th></th>\n",
       "      <th>area</th>\n",
       "      <th>class</th>\n",
       "      <th>company</th>\n",
       "      <th>date</th>\n",
       "      <th>description</th>\n",
       "      <th>job_id</th>\n",
       "      <th>level</th>\n",
       "      <th>location</th>\n",
       "      <th>salary</th>\n",
       "      <th>sub_class</th>\n",
       "      <th>title</th>\n",
       "      <th>type</th>\n",
       "    </tr>\n",
       "  </thead>\n",
       "  <tbody>\n",
       "    <tr>\n",
       "      <th>1</th>\n",
       "      <td>NaN</td>\n",
       "      <td>NaN</td>\n",
       "      <td>NaN</td>\n",
       "      <td>NaN</td>\n",
       "      <td>Join a talented and dynamic team in multi-chan...</td>\n",
       "      <td>35046021</td>\n",
       "      <td>premiumJob</td>\n",
       "      <td>NaN</td>\n",
       "      <td>NaN</td>\n",
       "      <td>NaN</td>\n",
       "      <td>NaN</td>\n",
       "      <td>NaN</td>\n",
       "    </tr>\n",
       "    <tr>\n",
       "      <th>2</th>\n",
       "      <td>CBD, Inner West &amp; Eastern Suburbs</td>\n",
       "      <td>Information &amp; Communication Technology</td>\n",
       "      <td>Energy &amp; Water Ombudsman NSW</td>\n",
       "      <td>19 Dec 2017</td>\n",
       "      <td>Seeking an experienced desktop support analyst...</td>\n",
       "      <td>35118800</td>\n",
       "      <td>premiumJob</td>\n",
       "      <td>Sydney</td>\n",
       "      <td>NaN</td>\n",
       "      <td>Business/Systems Analysts</td>\n",
       "      <td>Data Analysis and Support Officer</td>\n",
       "      <td>Part Time</td>\n",
       "    </tr>\n",
       "    <tr>\n",
       "      <th>3</th>\n",
       "      <td>CBD, Inner West &amp; Eastern Suburbs</td>\n",
       "      <td>Information &amp; Communication Technology</td>\n",
       "      <td>NaN</td>\n",
       "      <td>21 Dec 2017</td>\n",
       "      <td>Expertise in Data Architecture frameworks e.g....</td>\n",
       "      <td>35132539</td>\n",
       "      <td>normalJob</td>\n",
       "      <td>ACT</td>\n",
       "      <td>NaN</td>\n",
       "      <td>Architects</td>\n",
       "      <td>Data Architect</td>\n",
       "      <td>Contract/Temp</td>\n",
       "    </tr>\n",
       "    <tr>\n",
       "      <th>4</th>\n",
       "      <td>CBD, Inner West &amp; Eastern Suburbs</td>\n",
       "      <td>Healthcare &amp; Medical</td>\n",
       "      <td>NaN</td>\n",
       "      <td>21 Dec 2017</td>\n",
       "      <td>Analyse financial, human resource, service del...</td>\n",
       "      <td>35131963</td>\n",
       "      <td>normalJob</td>\n",
       "      <td>Townsville &amp; Northern QLD</td>\n",
       "      <td>Great remuneration &amp; benefits!</td>\n",
       "      <td>Management</td>\n",
       "      <td>Finance and Data Manager</td>\n",
       "      <td>Contract/Temp</td>\n",
       "    </tr>\n",
       "    <tr>\n",
       "      <th>5</th>\n",
       "      <td>CBD, Inner West &amp; Eastern Suburbs</td>\n",
       "      <td>Accounting</td>\n",
       "      <td>NaN</td>\n",
       "      <td>21 Dec 2017</td>\n",
       "      <td>Analyse financial, human resource, service del...</td>\n",
       "      <td>35131964</td>\n",
       "      <td>normalJob</td>\n",
       "      <td>Townsville &amp; Northern QLD</td>\n",
       "      <td>Great remuneration &amp; benefits!</td>\n",
       "      <td>Management</td>\n",
       "      <td>Finance and Data Manager</td>\n",
       "      <td>Contract/Temp</td>\n",
       "    </tr>\n",
       "  </tbody>\n",
       "</table>\n",
       "</div>"
      ],
      "text/plain": [
       "                                area                                   class  \\\n",
       "1                                NaN                                     NaN   \n",
       "2  CBD, Inner West & Eastern Suburbs  Information & Communication Technology   \n",
       "3  CBD, Inner West & Eastern Suburbs  Information & Communication Technology   \n",
       "4  CBD, Inner West & Eastern Suburbs                    Healthcare & Medical   \n",
       "5  CBD, Inner West & Eastern Suburbs                              Accounting   \n",
       "\n",
       "                        company         date  \\\n",
       "1                           NaN          NaN   \n",
       "2  Energy & Water Ombudsman NSW  19 Dec 2017   \n",
       "3                           NaN  21 Dec 2017   \n",
       "4                           NaN  21 Dec 2017   \n",
       "5                           NaN  21 Dec 2017   \n",
       "\n",
       "                                         description    job_id       level  \\\n",
       "1  Join a talented and dynamic team in multi-chan...  35046021  premiumJob   \n",
       "2  Seeking an experienced desktop support analyst...  35118800  premiumJob   \n",
       "3  Expertise in Data Architecture frameworks e.g....  35132539   normalJob   \n",
       "4  Analyse financial, human resource, service del...  35131963   normalJob   \n",
       "5  Analyse financial, human resource, service del...  35131964   normalJob   \n",
       "\n",
       "                    location                          salary  \\\n",
       "1                        NaN                             NaN   \n",
       "2                     Sydney                             NaN   \n",
       "3                        ACT                             NaN   \n",
       "4  Townsville & Northern QLD  Great remuneration & benefits!   \n",
       "5  Townsville & Northern QLD  Great remuneration & benefits!   \n",
       "\n",
       "                   sub_class                              title           type  \n",
       "1                        NaN                                NaN            NaN  \n",
       "2  Business/Systems Analysts  Data Analysis and Support Officer      Part Time  \n",
       "3                 Architects                     Data Architect  Contract/Temp  \n",
       "4                 Management           Finance and Data Manager  Contract/Temp  \n",
       "5                 Management           Finance and Data Manager  Contract/Temp  "
      ]
     },
     "execution_count": 4,
     "metadata": {},
     "output_type": "execute_result"
    }
   ],
   "source": [
    "# investigating it\n",
    "\n",
    "print scraped.shape\n",
    "print scraped.info()\n",
    "scraped.head()\n"
   ]
  },
  {
   "cell_type": "markdown",
   "metadata": {},
   "source": [
    "# Cleaning\n"
   ]
  },
  {
   "cell_type": "code",
   "execution_count": 5,
   "metadata": {
    "scrolled": true
   },
   "outputs": [
    {
     "name": "stdout",
     "output_type": "stream",
     "text": [
      "23455\n",
      "(23455, 12)\n"
     ]
    }
   ],
   "source": [
    "#getting rid of duplicates\n",
    "\n",
    "# i used job_id because it is the websites default way to make each job posting unique will better get rid of duplicates\n",
    "\n",
    "print len(scraped.job_id.value_counts())\n",
    "\n",
    "scraped.drop_duplicates(subset='job_id',inplace=True)\n",
    "print scraped.shape"
   ]
  },
  {
   "cell_type": "code",
   "execution_count": 6,
   "metadata": {},
   "outputs": [
    {
     "data": {
      "text/html": [
       "<div>\n",
       "<style>\n",
       "    .dataframe thead tr:only-child th {\n",
       "        text-align: right;\n",
       "    }\n",
       "\n",
       "    .dataframe thead th {\n",
       "        text-align: left;\n",
       "    }\n",
       "\n",
       "    .dataframe tbody tr th {\n",
       "        vertical-align: top;\n",
       "    }\n",
       "</style>\n",
       "<table border=\"1\" class=\"dataframe\">\n",
       "  <thead>\n",
       "    <tr style=\"text-align: right;\">\n",
       "      <th></th>\n",
       "      <th>area</th>\n",
       "      <th>class</th>\n",
       "      <th>company</th>\n",
       "      <th>date</th>\n",
       "      <th>description</th>\n",
       "      <th>job_id</th>\n",
       "      <th>level</th>\n",
       "      <th>location</th>\n",
       "      <th>salary</th>\n",
       "      <th>sub_class</th>\n",
       "      <th>title</th>\n",
       "      <th>type</th>\n",
       "    </tr>\n",
       "  </thead>\n",
       "  <tbody>\n",
       "    <tr>\n",
       "      <th>4</th>\n",
       "      <td>CBD, Inner West &amp; Eastern Suburbs</td>\n",
       "      <td>Healthcare &amp; Medical</td>\n",
       "      <td>NaN</td>\n",
       "      <td>21 Dec 2017</td>\n",
       "      <td>Analyse financial, human resource, service del...</td>\n",
       "      <td>35131963</td>\n",
       "      <td>normalJob</td>\n",
       "      <td>Townsville &amp; Northern QLD</td>\n",
       "      <td>Great remuneration &amp; benefits!</td>\n",
       "      <td>Management</td>\n",
       "      <td>Finance and Data Manager</td>\n",
       "      <td>Contract/Temp</td>\n",
       "    </tr>\n",
       "    <tr>\n",
       "      <th>5</th>\n",
       "      <td>CBD, Inner West &amp; Eastern Suburbs</td>\n",
       "      <td>Accounting</td>\n",
       "      <td>NaN</td>\n",
       "      <td>21 Dec 2017</td>\n",
       "      <td>Analyse financial, human resource, service del...</td>\n",
       "      <td>35131964</td>\n",
       "      <td>normalJob</td>\n",
       "      <td>Townsville &amp; Northern QLD</td>\n",
       "      <td>Great remuneration &amp; benefits!</td>\n",
       "      <td>Management</td>\n",
       "      <td>Finance and Data Manager</td>\n",
       "      <td>Contract/Temp</td>\n",
       "    </tr>\n",
       "    <tr>\n",
       "      <th>7</th>\n",
       "      <td>Southern Suburbs &amp; Logan</td>\n",
       "      <td>Information &amp; Communication Technology</td>\n",
       "      <td>Opus Recruitment Solutions</td>\n",
       "      <td>21 Dec 2017</td>\n",
       "      <td>DATA SCIENCE SUPERSTARS\\r\\n\\r\\nMODERN OFFICES\\...</td>\n",
       "      <td>35131268</td>\n",
       "      <td>normalJob</td>\n",
       "      <td>Sydney</td>\n",
       "      <td>$100000 - $220000 per annum</td>\n",
       "      <td>Database Development &amp; Administration</td>\n",
       "      <td>Data Science Leads</td>\n",
       "      <td>Full Time</td>\n",
       "    </tr>\n",
       "    <tr>\n",
       "      <th>9</th>\n",
       "      <td>Parramatta &amp; Western Suburbs</td>\n",
       "      <td>Information &amp; Communication Technology</td>\n",
       "      <td>Infinity Pro</td>\n",
       "      <td>21 Dec 2017</td>\n",
       "      <td>Risk Data Insight Analyst - Control, Risk Data...</td>\n",
       "      <td>35130722</td>\n",
       "      <td>normalJob</td>\n",
       "      <td>Sydney</td>\n",
       "      <td>Great Rems + End User + Parking + Generous Bon...</td>\n",
       "      <td>Consultants</td>\n",
       "      <td>Risk Data Insight Analyst - Risk / Investigati...</td>\n",
       "      <td>Full Time</td>\n",
       "    </tr>\n",
       "    <tr>\n",
       "      <th>11</th>\n",
       "      <td>North Shore &amp; Northern Beaches</td>\n",
       "      <td>Information &amp; Communication Technology</td>\n",
       "      <td>Spark Recruitment</td>\n",
       "      <td>21 Dec 2017</td>\n",
       "      <td>Take ownership for the strategic development o...</td>\n",
       "      <td>35130098</td>\n",
       "      <td>normalJob</td>\n",
       "      <td>Sydney</td>\n",
       "      <td>$150k - $160k p.a. + bonus</td>\n",
       "      <td>Product Management &amp; Development</td>\n",
       "      <td>Product Manager - Big Data / Data Analytics</td>\n",
       "      <td>Full Time</td>\n",
       "    </tr>\n",
       "  </tbody>\n",
       "</table>\n",
       "</div>"
      ],
      "text/plain": [
       "                                 area                                   class  \\\n",
       "4   CBD, Inner West & Eastern Suburbs                    Healthcare & Medical   \n",
       "5   CBD, Inner West & Eastern Suburbs                              Accounting   \n",
       "7            Southern Suburbs & Logan  Information & Communication Technology   \n",
       "9        Parramatta & Western Suburbs  Information & Communication Technology   \n",
       "11     North Shore & Northern Beaches  Information & Communication Technology   \n",
       "\n",
       "                       company         date  \\\n",
       "4                          NaN  21 Dec 2017   \n",
       "5                          NaN  21 Dec 2017   \n",
       "7   Opus Recruitment Solutions  21 Dec 2017   \n",
       "9                 Infinity Pro  21 Dec 2017   \n",
       "11           Spark Recruitment  21 Dec 2017   \n",
       "\n",
       "                                          description    job_id      level  \\\n",
       "4   Analyse financial, human resource, service del...  35131963  normalJob   \n",
       "5   Analyse financial, human resource, service del...  35131964  normalJob   \n",
       "7   DATA SCIENCE SUPERSTARS\\r\\n\\r\\nMODERN OFFICES\\...  35131268  normalJob   \n",
       "9   Risk Data Insight Analyst - Control, Risk Data...  35130722  normalJob   \n",
       "11  Take ownership for the strategic development o...  35130098  normalJob   \n",
       "\n",
       "                     location  \\\n",
       "4   Townsville & Northern QLD   \n",
       "5   Townsville & Northern QLD   \n",
       "7                      Sydney   \n",
       "9                      Sydney   \n",
       "11                     Sydney   \n",
       "\n",
       "                                               salary  \\\n",
       "4                      Great remuneration & benefits!   \n",
       "5                      Great remuneration & benefits!   \n",
       "7                         $100000 - $220000 per annum   \n",
       "9   Great Rems + End User + Parking + Generous Bon...   \n",
       "11                         $150k - $160k p.a. + bonus   \n",
       "\n",
       "                                sub_class  \\\n",
       "4                              Management   \n",
       "5                              Management   \n",
       "7   Database Development & Administration   \n",
       "9                             Consultants   \n",
       "11       Product Management & Development   \n",
       "\n",
       "                                                title           type  \n",
       "4                            Finance and Data Manager  Contract/Temp  \n",
       "5                            Finance and Data Manager  Contract/Temp  \n",
       "7                                  Data Science Leads      Full Time  \n",
       "9   Risk Data Insight Analyst - Risk / Investigati...      Full Time  \n",
       "11        Product Manager - Big Data / Data Analytics      Full Time  "
      ]
     },
     "execution_count": 6,
     "metadata": {},
     "output_type": "execute_result"
    }
   ],
   "source": [
    "# trying to clean salary cause its a main thing\n",
    "scraped=scraped[scraped['salary'].isnull()==False]\n",
    "scraped.head()"
   ]
  },
  {
   "cell_type": "code",
   "execution_count": 7,
   "metadata": {
    "collapsed": true
   },
   "outputs": [],
   "source": [
    "#cleaning the date and converting it to useable datetime format:\n",
    "\n",
    "scraped['date']=pd.to_datetime(scraped['date'])"
   ]
  },
  {
   "cell_type": "code",
   "execution_count": 8,
   "metadata": {},
   "outputs": [
    {
     "name": "stdout",
     "output_type": "stream",
     "text": [
      "7750\n"
     ]
    },
    {
     "data": {
      "text/html": [
       "<div>\n",
       "<style>\n",
       "    .dataframe thead tr:only-child th {\n",
       "        text-align: right;\n",
       "    }\n",
       "\n",
       "    .dataframe thead th {\n",
       "        text-align: left;\n",
       "    }\n",
       "\n",
       "    .dataframe tbody tr th {\n",
       "        vertical-align: top;\n",
       "    }\n",
       "</style>\n",
       "<table border=\"1\" class=\"dataframe\">\n",
       "  <thead>\n",
       "    <tr style=\"text-align: right;\">\n",
       "      <th></th>\n",
       "      <th>area</th>\n",
       "      <th>class</th>\n",
       "      <th>company</th>\n",
       "      <th>date</th>\n",
       "      <th>description</th>\n",
       "      <th>job_id</th>\n",
       "      <th>level</th>\n",
       "      <th>location</th>\n",
       "      <th>salary</th>\n",
       "      <th>sub_class</th>\n",
       "      <th>title</th>\n",
       "      <th>type</th>\n",
       "    </tr>\n",
       "  </thead>\n",
       "  <tbody>\n",
       "    <tr>\n",
       "      <th>0</th>\n",
       "      <td>CBD, Inner West &amp; Eastern Suburbs</td>\n",
       "      <td>Healthcare &amp; Medical</td>\n",
       "      <td>NaN</td>\n",
       "      <td>2017-12-21</td>\n",
       "      <td>Analyse financial, human resource, service del...</td>\n",
       "      <td>35131963</td>\n",
       "      <td>normalJob</td>\n",
       "      <td>Townsville</td>\n",
       "      <td>Great remuneration &amp; benefits!</td>\n",
       "      <td>Management</td>\n",
       "      <td>Finance and Data Manager</td>\n",
       "      <td>Contract/Temp</td>\n",
       "    </tr>\n",
       "    <tr>\n",
       "      <th>1</th>\n",
       "      <td>CBD, Inner West &amp; Eastern Suburbs</td>\n",
       "      <td>Accounting</td>\n",
       "      <td>NaN</td>\n",
       "      <td>2017-12-21</td>\n",
       "      <td>Analyse financial, human resource, service del...</td>\n",
       "      <td>35131964</td>\n",
       "      <td>normalJob</td>\n",
       "      <td>Townsville</td>\n",
       "      <td>Great remuneration &amp; benefits!</td>\n",
       "      <td>Management</td>\n",
       "      <td>Finance and Data Manager</td>\n",
       "      <td>Contract/Temp</td>\n",
       "    </tr>\n",
       "    <tr>\n",
       "      <th>2</th>\n",
       "      <td>Southern Suburbs &amp; Logan</td>\n",
       "      <td>Information &amp; Communication Technology</td>\n",
       "      <td>Opus Recruitment Solutions</td>\n",
       "      <td>2017-12-21</td>\n",
       "      <td>DATA SCIENCE SUPERSTARS\\r\\n\\r\\nMODERN OFFICES\\...</td>\n",
       "      <td>35131268</td>\n",
       "      <td>normalJob</td>\n",
       "      <td>Sydney</td>\n",
       "      <td>$100000 - $220000 per annum</td>\n",
       "      <td>Database Development &amp; Administration</td>\n",
       "      <td>Data Science Leads</td>\n",
       "      <td>Full Time</td>\n",
       "    </tr>\n",
       "    <tr>\n",
       "      <th>3</th>\n",
       "      <td>Parramatta &amp; Western Suburbs</td>\n",
       "      <td>Information &amp; Communication Technology</td>\n",
       "      <td>Infinity Pro</td>\n",
       "      <td>2017-12-21</td>\n",
       "      <td>Risk Data Insight Analyst - Control, Risk Data...</td>\n",
       "      <td>35130722</td>\n",
       "      <td>normalJob</td>\n",
       "      <td>Sydney</td>\n",
       "      <td>Great Rems + End User + Parking + Generous Bon...</td>\n",
       "      <td>Consultants</td>\n",
       "      <td>Risk Data Insight Analyst - Risk / Investigati...</td>\n",
       "      <td>Full Time</td>\n",
       "    </tr>\n",
       "    <tr>\n",
       "      <th>4</th>\n",
       "      <td>North Shore &amp; Northern Beaches</td>\n",
       "      <td>Information &amp; Communication Technology</td>\n",
       "      <td>Spark Recruitment</td>\n",
       "      <td>2017-12-21</td>\n",
       "      <td>Take ownership for the strategic development o...</td>\n",
       "      <td>35130098</td>\n",
       "      <td>normalJob</td>\n",
       "      <td>Sydney</td>\n",
       "      <td>$150k - $160k p.a. + bonus</td>\n",
       "      <td>Product Management &amp; Development</td>\n",
       "      <td>Product Manager - Big Data / Data Analytics</td>\n",
       "      <td>Full Time</td>\n",
       "    </tr>\n",
       "  </tbody>\n",
       "</table>\n",
       "</div>"
      ],
      "text/plain": [
       "                                area                                   class  \\\n",
       "0  CBD, Inner West & Eastern Suburbs                    Healthcare & Medical   \n",
       "1  CBD, Inner West & Eastern Suburbs                              Accounting   \n",
       "2           Southern Suburbs & Logan  Information & Communication Technology   \n",
       "3       Parramatta & Western Suburbs  Information & Communication Technology   \n",
       "4     North Shore & Northern Beaches  Information & Communication Technology   \n",
       "\n",
       "                      company       date  \\\n",
       "0                         NaN 2017-12-21   \n",
       "1                         NaN 2017-12-21   \n",
       "2  Opus Recruitment Solutions 2017-12-21   \n",
       "3                Infinity Pro 2017-12-21   \n",
       "4           Spark Recruitment 2017-12-21   \n",
       "\n",
       "                                         description    job_id      level  \\\n",
       "0  Analyse financial, human resource, service del...  35131963  normalJob   \n",
       "1  Analyse financial, human resource, service del...  35131964  normalJob   \n",
       "2  DATA SCIENCE SUPERSTARS\\r\\n\\r\\nMODERN OFFICES\\...  35131268  normalJob   \n",
       "3  Risk Data Insight Analyst - Control, Risk Data...  35130722  normalJob   \n",
       "4  Take ownership for the strategic development o...  35130098  normalJob   \n",
       "\n",
       "     location                                             salary  \\\n",
       "0  Townsville                     Great remuneration & benefits!   \n",
       "1  Townsville                     Great remuneration & benefits!   \n",
       "2      Sydney                        $100000 - $220000 per annum   \n",
       "3      Sydney  Great Rems + End User + Parking + Generous Bon...   \n",
       "4      Sydney                         $150k - $160k p.a. + bonus   \n",
       "\n",
       "                               sub_class  \\\n",
       "0                             Management   \n",
       "1                             Management   \n",
       "2  Database Development & Administration   \n",
       "3                            Consultants   \n",
       "4       Product Management & Development   \n",
       "\n",
       "                                               title           type  \n",
       "0                           Finance and Data Manager  Contract/Temp  \n",
       "1                           Finance and Data Manager  Contract/Temp  \n",
       "2                                 Data Science Leads      Full Time  \n",
       "3  Risk Data Insight Analyst - Risk / Investigati...      Full Time  \n",
       "4        Product Manager - Big Data / Data Analytics      Full Time  "
      ]
     },
     "execution_count": 8,
     "metadata": {},
     "output_type": "execute_result"
    }
   ],
   "source": [
    "#cleaning the locations\n",
    "lists=[]\n",
    "for item in scraped['location'].values:\n",
    "    try:\n",
    "        lists.append(item.split(' '))\n",
    "    except:\n",
    "        pass\n",
    "    \n",
    "#getting only the first location not any other info because it doesn't really help: \n",
    "for n,item in enumerate(lists):\n",
    "    lists[n]=item[0]\n",
    "\n",
    "print len(lists)#len of list and len of scraped df are off by one so\n",
    "\n",
    "scraped.location=lists#equating it to the cleaned values\n",
    "scraped=scraped.reset_index(drop=True)#reseting the index\n",
    "scraped.head()"
   ]
  },
  {
   "cell_type": "code",
   "execution_count": 9,
   "metadata": {
    "scrolled": false
   },
   "outputs": [
    {
     "data": {
      "text/plain": [
       "area              0\n",
       "class             0\n",
       "company        1617\n",
       "date              0\n",
       "description       0\n",
       "job_id            0\n",
       "level             0\n",
       "location          0\n",
       "salary            0\n",
       "sub_class         0\n",
       "title             0\n",
       "type              0\n",
       "dtype: int64"
      ]
     },
     "execution_count": 9,
     "metadata": {},
     "output_type": "execute_result"
    }
   ],
   "source": [
    "#only company column has null values \n",
    "scraped.isnull().sum()"
   ]
  },
  {
   "cell_type": "code",
   "execution_count": 10,
   "metadata": {
    "collapsed": true
   },
   "outputs": [],
   "source": [
    "#removed company null values\n",
    "scraped=scraped[scraped['company'].isnull()==False]\n",
    "scraped=scraped.reset_index(drop=True)"
   ]
  },
  {
   "cell_type": "code",
   "execution_count": 11,
   "metadata": {},
   "outputs": [
    {
     "name": "stdout",
     "output_type": "stream",
     "text": [
      "(6133, 12)\n",
      "<class 'pandas.core.frame.DataFrame'>\n",
      "RangeIndex: 6133 entries, 0 to 6132\n",
      "Data columns (total 12 columns):\n",
      "area           6133 non-null object\n",
      "class          6133 non-null object\n",
      "company        6133 non-null object\n",
      "date           6133 non-null datetime64[ns]\n",
      "description    6133 non-null object\n",
      "job_id         6133 non-null int64\n",
      "level          6133 non-null object\n",
      "location       6133 non-null object\n",
      "salary         6133 non-null object\n",
      "sub_class      6133 non-null object\n",
      "title          6133 non-null object\n",
      "type           6133 non-null object\n",
      "dtypes: datetime64[ns](1), int64(1), object(10)\n",
      "memory usage: 575.0+ KB\n",
      "None\n"
     ]
    }
   ],
   "source": [
    "#general cleaning done now\n",
    "print scraped.shape\n",
    "print scraped.info()"
   ]
  },
  {
   "cell_type": "markdown",
   "metadata": {},
   "source": [
    "# Salary Cleaning"
   ]
  },
  {
   "cell_type": "raw",
   "metadata": {},
   "source": [
    "Salary contains alot of problems that need to be cleaned\n",
    "\n",
    "Firstly converting all salary formats into one useable format such as per anumm( which i changed to per day based on your recommendation\n",
    "\n",
    "So in order to achieve this i realised there are four main forms of salary formats:\n",
    "1)a per anumm range[100000-150000]\n",
    "        Note:\n",
    "        i chose the bottom value for each range because i believe that recruiters are more likely \n",
    "        to that amount rather than the upper value\n",
    "        i also realise this is an assumption but it doesn't raise any issue in terms of analysis\n",
    "        because even if it is the lower value it can still tell us alot in terms of the range so if the range is \n",
    "        [170000-200000] that is still higher than [100000-170000](even if the ranges vary)\n",
    "2)K value:[150k-160k]\n",
    "        Convert the k into '000' and use bottom range\n",
    "3)per day:[700-900 per day]\n",
    "        convert them up to per anumm\n",
    "        Note: there were a few(10 or so) values that were above 1500 which i assumed were an error caused by the cleaning \n",
    "        of step 2 'K' which might have added extra 000 so those values i removed purely because they were so small\n",
    "        \n",
    "4)per hour:[60 per hour]\n",
    "        convert them up to per anumm\n",
    "        Note: There some values maybe(20 or so) were between 70 and 250 but i wasn't sure whether they were per anumm without\n",
    "        the 'k' or per hour and they seemed very low to be per day so i calculated them as both and got the average\n",
    "        \n",
    "Lastly after all the cleaning and converting if there was any value that was smaller or larger than[40,000-300,000] i got \n",
    "rid of them cause they didn't make any sense and were probably corrupted by my cleaning, however since there weren't many and \n",
    "the limit was 1000 and i have over 6000 i decided it was fine to sacrifice these.\n"
   ]
  },
  {
   "cell_type": "code",
   "execution_count": 12,
   "metadata": {
    "collapsed": true
   },
   "outputs": [],
   "source": [
    "# going to use this to get rid of stuff i don't need in salary column\n",
    "\n",
    "#letters without 'k' or 'K'\n",
    "letters='abcdefghijlmnopqrstuvwxyzABCDEFGHIJLMNOPQRSTUVWXYZ'\n",
    "numbers=string.digits\n",
    "#punctuation without '-'\n",
    "elements='!\"#$%&\\'()*+,./:;<=>?@[\\\\]^_`{|}~ '\n",
    "\n"
   ]
  },
  {
   "cell_type": "code",
   "execution_count": 15,
   "metadata": {},
   "outputs": [
    {
     "name": "stdout",
     "output_type": "stream",
     "text": [
      "6133\n"
     ]
    },
    {
     "data": {
      "text/plain": [
       "['$100000 - $220000 per annum',\n",
       " 'Great Rems + End User + Parking + Generous Bonuses',\n",
       " '$150k - $160k p.a. + bonus',\n",
       " 'End User Company - Great Remuneration & Benefits',\n",
       " '$160-$200k + super']"
      ]
     },
     "execution_count": 15,
     "metadata": {},
     "output_type": "execute_result"
    }
   ],
   "source": [
    "#turning unicode into useable strings:\n",
    "#Also the issue here is that it can only run once because once it converts it string the code doesn't work and throws an error \n",
    "\n",
    "import unicodedata\n",
    "\n",
    "strings=[]\n",
    "\n",
    "                        # i commented it out so it doesn't mess things up\n",
    "\n",
    "# for item in scraped['salary']:\n",
    "#     try:\n",
    "#         r=unicodedata.normalize('NFKD', item).encode('ascii','ignore')# i commented it out so it doesn't mess things up\n",
    "#         strings.append(r)\n",
    "#     except:\n",
    "#         pass\n",
    "\n",
    "# making sure the len of string is the same throughout\n",
    "print len(strings)\n",
    "strings[:5]\n",
    "\n"
   ]
  },
  {
   "cell_type": "code",
   "execution_count": 16,
   "metadata": {
    "collapsed": true
   },
   "outputs": [],
   "source": [
    "scraped['salary']=strings"
   ]
  },
  {
   "cell_type": "code",
   "execution_count": 17,
   "metadata": {},
   "outputs": [
    {
     "name": "stdout",
     "output_type": "stream",
     "text": [
      "<type 'str'>\n",
      "$100000 - $220000 per annum\n"
     ]
    }
   ],
   "source": [
    "#checking to make sure the type is a string:\n",
    "for value in scraped['salary']:\n",
    "    print type(value)\n",
    "    print value\n",
    "    break"
   ]
  },
  {
   "cell_type": "code",
   "execution_count": 18,
   "metadata": {},
   "outputs": [
    {
     "name": "stdout",
     "output_type": "stream",
     "text": [
      "6133\n"
     ]
    },
    {
     "data": {
      "text/plain": [
       "['100000-220000',\n",
       " 'k',\n",
       " '150k-160k',\n",
       " '-',\n",
       " '160-200k',\n",
       " '',\n",
       " '70000-95000',\n",
       " '70000-95000',\n",
       " '90000-119999',\n",
       " 'k']"
      ]
     },
     "execution_count": 18,
     "metadata": {},
     "output_type": "execute_result"
    }
   ],
   "source": [
    "#getting rid of letters/words and punctuation except 'k' and '-' because they will come in handy:\n",
    "\n",
    "numbered=[]#creating a list to store the cleaned values\n",
    "for item in scraped['salary'].values:\n",
    "    #this piece of code i copied from stackoverflow but i understand how it works and it requires the \n",
    "    #item to be str type and not unicode:\n",
    "    all=string.maketrans('','')\n",
    "    noletters=item.translate(all, letters)\n",
    "    numbers=noletters.translate(all, elements)\n",
    "    \n",
    "    numbered.append(numbers.lower())\n",
    "    \n",
    "\n",
    "# making sure the len of numbered is the same throughout\n",
    "print len(numbered)\n",
    "numbered[:10]"
   ]
  },
  {
   "cell_type": "code",
   "execution_count": 19,
   "metadata": {},
   "outputs": [
    {
     "name": "stdout",
     "output_type": "stream",
     "text": [
      "6133\n"
     ]
    },
    {
     "data": {
      "text/plain": [
       "['100000-220000',\n",
       " '0',\n",
       " '150k-160k',\n",
       " '0',\n",
       " '160-200k',\n",
       " '0',\n",
       " '70000-95000',\n",
       " '70000-95000',\n",
       " '90000-119999',\n",
       " '0']"
      ]
     },
     "execution_count": 19,
     "metadata": {},
     "output_type": "execute_result"
    }
   ],
   "source": [
    "#turning only empty, only'k' and only'-' values into zero but if 'k' and '-' are not on their own then then are very useful:\n",
    "\n",
    "\n",
    "for n,i in enumerate(numbered):\n",
    "    if i==\"\" : numbered[n]='0'\n",
    "    elif i==\"k\" : numbered[n]='0'\n",
    "    elif i==\"-\" : numbered[n]='0'\n",
    "        \n",
    "# making sure the len of numbered is the same throughout\n",
    "print len(numbered)\n",
    "numbered[:10]"
   ]
  },
  {
   "cell_type": "code",
   "execution_count": 20,
   "metadata": {},
   "outputs": [
    {
     "name": "stdout",
     "output_type": "stream",
     "text": [
      "6133\n"
     ]
    },
    {
     "data": {
      "text/plain": [
       "[['100000', '220000'],\n",
       " ['0'],\n",
       " ['150k', '160k'],\n",
       " ['0'],\n",
       " ['160', '200k'],\n",
       " ['0'],\n",
       " ['70000', '95000'],\n",
       " ['70000', '95000'],\n",
       " ['90000', '119999'],\n",
       " ['0']]"
      ]
     },
     "execution_count": 20,
     "metadata": {},
     "output_type": "execute_result"
    }
   ],
   "source": [
    "#spliting the numbers on '-':\n",
    "\n",
    "for n,item in enumerate(numbered):\n",
    "    numbered[n]=item.split('-')\n",
    "    \n",
    "# making sure the len of numbered is the same throughout    \n",
    "print len(numbered)\n",
    "numbered[:10]"
   ]
  },
  {
   "cell_type": "code",
   "execution_count": 21,
   "metadata": {},
   "outputs": [
    {
     "name": "stdout",
     "output_type": "stream",
     "text": [
      "6133\n"
     ]
    },
    {
     "data": {
      "text/plain": [
       "[['100000', '220000'],\n",
       " ['0'],\n",
       " ['150000'],\n",
       " ['0'],\n",
       " ['160000'],\n",
       " ['0'],\n",
       " ['70000', '95000'],\n",
       " ['70000', '95000'],\n",
       " ['90000', '119999'],\n",
       " ['0']]"
      ]
     },
     "execution_count": 21,
     "metadata": {},
     "output_type": "execute_result"
    }
   ],
   "source": [
    "#converting the 'k' value to '000' because thats what it means:\n",
    "\n",
    "for n,it in enumerate(numbered):\n",
    "#     print it[0]\n",
    "    \n",
    "    for item in it:#each [it] is a list because of splitting them in the previous code\n",
    "        if 'k' in item:# this is checking if 'k' even exist in those lists(['160','200k])\n",
    "                       # by checking for 'k' in each item in the list\n",
    "            \n",
    "            #so here if the list contain k then only the first item in list:\n",
    "            if 'k' in it[0]:\n",
    "            # 1) if it had k then replace it with '000'\n",
    "                numbered[n]=[it[0].replace('k','000')]\n",
    "            else:\n",
    "            # 2) otherwise just add '000' because the other value\n",
    "            #   in the list had a 'k' but not the first item/value meaning they are both \n",
    "            #   using the same value.\n",
    "                numbered[n]=[it[0]+'000']\n",
    "                \n",
    "            # the other thing that is happening is the i am reseting the value with the cleaned first one because i explained that\n",
    "            # the first value in a range is better\n",
    "                \n",
    "                \n",
    "# making sure the len of numbered is the same throughout        \n",
    "print len(numbered)\n",
    "numbered[:10]"
   ]
  },
  {
   "cell_type": "code",
   "execution_count": 22,
   "metadata": {},
   "outputs": [
    {
     "name": "stdout",
     "output_type": "stream",
     "text": [
      "6133\n"
     ]
    },
    {
     "data": {
      "text/plain": [
       "[100000, 0, 150000, 0, 160000, 0, 70000, 70000, 90000, 0]"
      ]
     },
     "execution_count": 22,
     "metadata": {},
     "output_type": "execute_result"
    }
   ],
   "source": [
    "# covnerting to int:\n",
    "\n",
    "for n,item in enumerate(numbered):\n",
    "    try:\n",
    "        numbered[n]=int(item[0])\n",
    "    except:\n",
    "        pass\n",
    "\n",
    "\n",
    "# making sure the len of numbered is the same throughout\n",
    "print len(numbered)\n",
    "numbered[:10]"
   ]
  },
  {
   "cell_type": "code",
   "execution_count": 23,
   "metadata": {
    "scrolled": true
   },
   "outputs": [
    {
     "name": "stdout",
     "output_type": "stream",
     "text": [
      "6133\n"
     ]
    },
    {
     "data": {
      "text/plain": [
       "[100000,\n",
       " 0,\n",
       " 150000,\n",
       " 0,\n",
       " 160000,\n",
       " 0,\n",
       " 70000,\n",
       " 70000,\n",
       " 90000,\n",
       " 0,\n",
       " 0,\n",
       " 120000,\n",
       " 10000000,\n",
       " 85000,\n",
       " 11500000010L,\n",
       " 260000,\n",
       " 200200,\n",
       " 0,\n",
       " 0,\n",
       " 100000,\n",
       " 0,\n",
       " 90000,\n",
       " 140000,\n",
       " 62400,\n",
       " 0,\n",
       " 0,\n",
       " 130000,\n",
       " 130000,\n",
       " 130000,\n",
       " 55000]"
      ]
     },
     "execution_count": 23,
     "metadata": {},
     "output_type": "execute_result"
    }
   ],
   "source": [
    "# sorting out:\n",
    "\n",
    "for n,item in enumerate(numbered):\n",
    "    \n",
    "    #1) per day salaries and converitng them to per annum\n",
    "    if 250 <= item <= 1500:\n",
    "        numbered[n]=item*5*52\n",
    "        \n",
    "    #2) per hour to per annum \n",
    "    elif 17 <= item <= 70:\n",
    "        numbered[n]=item*8*5*52\n",
    "    \n",
    "    #3) getting rid of small numbers\n",
    "    elif item<17:\n",
    "        numbered[n]=0\n",
    "    \n",
    "    #4) getting rid of numbers that don't fall in any category don't make any sense which aren't many\n",
    "    elif 1500<=item<=10000:\n",
    "        numbered[n]=0\n",
    "    \n",
    "    # 5) these numbers could be per hour or per annum(they don't have k) so i calculated both and got the average of them:\n",
    "    elif 70<= item <=250:\n",
    "        x=(item*8*5*52+(item*1000))/2\n",
    "        numbered[n]=x\n",
    "# making sure the len of numbered is the same throughout        \n",
    "print len(numbered)\n",
    "numbered[:30]\n"
   ]
  },
  {
   "cell_type": "code",
   "execution_count": 24,
   "metadata": {},
   "outputs": [
    {
     "name": "stdout",
     "output_type": "stream",
     "text": [
      "6133\n"
     ]
    },
    {
     "data": {
      "text/plain": [
       "[100000,\n",
       " 0,\n",
       " 150000,\n",
       " 0,\n",
       " 160000,\n",
       " 0,\n",
       " 70000,\n",
       " 70000,\n",
       " 90000,\n",
       " 0,\n",
       " 0,\n",
       " 120000,\n",
       " 100000,\n",
       " 85000,\n",
       " 0,\n",
       " 26000,\n",
       " 200200,\n",
       " 0,\n",
       " 0,\n",
       " 100000,\n",
       " 0,\n",
       " 90000,\n",
       " 140000,\n",
       " 62400,\n",
       " 0,\n",
       " 0,\n",
       " 130000,\n",
       " 130000,\n",
       " 130000,\n",
       " 55000]"
      ]
     },
     "execution_count": 24,
     "metadata": {},
     "output_type": "execute_result"
    }
   ],
   "source": [
    "#fixing ridiculously big values:\n",
    "\n",
    "\n",
    "for n,item in enumerate(numbered):\n",
    "    if item>10**8:\n",
    "        numbered[n]=0\n",
    "    elif item>250000:\n",
    "        c=[]\n",
    "        c.append(item)\n",
    "        for x in c:\n",
    "            if x>250000:\n",
    "                c.append(x/10)\n",
    "            else:\n",
    "                break\n",
    "        numbered[n]=c[-1]\n",
    "                \n",
    "    else:\n",
    "        pass\n",
    "# making sure the len of numbered is the same throughout\n",
    "print len(numbered)\n",
    "numbered[:30]"
   ]
  },
  {
   "cell_type": "code",
   "execution_count": 25,
   "metadata": {},
   "outputs": [
    {
     "name": "stdout",
     "output_type": "stream",
     "text": [
      "6133\n"
     ]
    },
    {
     "data": {
      "text/plain": [
       "[384,\n",
       " 0,\n",
       " 576,\n",
       " 0,\n",
       " 615,\n",
       " 0,\n",
       " 269,\n",
       " 269,\n",
       " 346,\n",
       " 0,\n",
       " 0,\n",
       " 461,\n",
       " 384,\n",
       " 326,\n",
       " 0,\n",
       " 100,\n",
       " 770,\n",
       " 0,\n",
       " 0,\n",
       " 384,\n",
       " 0,\n",
       " 346,\n",
       " 538,\n",
       " 240,\n",
       " 0,\n",
       " 0,\n",
       " 500,\n",
       " 500,\n",
       " 500,\n",
       " 211]"
      ]
     },
     "execution_count": 25,
     "metadata": {},
     "output_type": "execute_result"
    }
   ],
   "source": [
    "# converting all the salaries to per day because its better especailly with 'contract': \n",
    "\n",
    "for n,item in enumerate(numbered):\n",
    "    numbered[n]=item/52/5\n",
    "# making sure the len of numbered is the same throughout     \n",
    "print len(numbered)\n",
    "numbered[:30]"
   ]
  },
  {
   "cell_type": "code",
   "execution_count": 26,
   "metadata": {
    "collapsed": true
   },
   "outputs": [],
   "source": [
    "scraped['salary']=numbered"
   ]
  },
  {
   "cell_type": "code",
   "execution_count": 27,
   "metadata": {
    "scrolled": true
   },
   "outputs": [
    {
     "name": "stdout",
     "output_type": "stream",
     "text": [
      "(4335, 12)\n",
      "<class 'pandas.core.frame.DataFrame'>\n",
      "RangeIndex: 4335 entries, 0 to 4334\n",
      "Data columns (total 12 columns):\n",
      "area           4335 non-null object\n",
      "class          4335 non-null object\n",
      "company        4335 non-null object\n",
      "date           4335 non-null datetime64[ns]\n",
      "description    4335 non-null object\n",
      "job_id         4335 non-null int64\n",
      "level          4335 non-null object\n",
      "location       4335 non-null object\n",
      "salary         4335 non-null int64\n",
      "sub_class      4335 non-null object\n",
      "title          4335 non-null object\n",
      "type           4335 non-null object\n",
      "dtypes: datetime64[ns](1), int64(2), object(9)\n",
      "memory usage: 406.5+ KB\n",
      "None\n"
     ]
    },
    {
     "data": {
      "text/html": [
       "<div>\n",
       "<style>\n",
       "    .dataframe thead tr:only-child th {\n",
       "        text-align: right;\n",
       "    }\n",
       "\n",
       "    .dataframe thead th {\n",
       "        text-align: left;\n",
       "    }\n",
       "\n",
       "    .dataframe tbody tr th {\n",
       "        vertical-align: top;\n",
       "    }\n",
       "</style>\n",
       "<table border=\"1\" class=\"dataframe\">\n",
       "  <thead>\n",
       "    <tr style=\"text-align: right;\">\n",
       "      <th></th>\n",
       "      <th>area</th>\n",
       "      <th>class</th>\n",
       "      <th>company</th>\n",
       "      <th>date</th>\n",
       "      <th>description</th>\n",
       "      <th>job_id</th>\n",
       "      <th>level</th>\n",
       "      <th>location</th>\n",
       "      <th>salary</th>\n",
       "      <th>sub_class</th>\n",
       "      <th>title</th>\n",
       "      <th>type</th>\n",
       "    </tr>\n",
       "  </thead>\n",
       "  <tbody>\n",
       "    <tr>\n",
       "      <th>0</th>\n",
       "      <td>Southern Suburbs &amp; Logan</td>\n",
       "      <td>Information &amp; Communication Technology</td>\n",
       "      <td>Opus Recruitment Solutions</td>\n",
       "      <td>2017-12-21</td>\n",
       "      <td>DATA SCIENCE SUPERSTARS\\r\\n\\r\\nMODERN OFFICES\\...</td>\n",
       "      <td>35131268</td>\n",
       "      <td>normalJob</td>\n",
       "      <td>Sydney</td>\n",
       "      <td>384</td>\n",
       "      <td>Database Development &amp; Administration</td>\n",
       "      <td>Data Science Leads</td>\n",
       "      <td>Full Time</td>\n",
       "    </tr>\n",
       "    <tr>\n",
       "      <th>1</th>\n",
       "      <td>North Shore &amp; Northern Beaches</td>\n",
       "      <td>Information &amp; Communication Technology</td>\n",
       "      <td>Spark Recruitment</td>\n",
       "      <td>2017-12-21</td>\n",
       "      <td>Take ownership for the strategic development o...</td>\n",
       "      <td>35130098</td>\n",
       "      <td>normalJob</td>\n",
       "      <td>Sydney</td>\n",
       "      <td>576</td>\n",
       "      <td>Product Management &amp; Development</td>\n",
       "      <td>Product Manager - Big Data / Data Analytics</td>\n",
       "      <td>Full Time</td>\n",
       "    </tr>\n",
       "    <tr>\n",
       "      <th>2</th>\n",
       "      <td>CBD, Inner West &amp; Eastern Suburbs</td>\n",
       "      <td>Information &amp; Communication Technology</td>\n",
       "      <td>2XM Technology Pty Ltd</td>\n",
       "      <td>2017-12-21</td>\n",
       "      <td>Data Solution Architect required to work on a ...</td>\n",
       "      <td>35129596</td>\n",
       "      <td>normalJob</td>\n",
       "      <td>Sydney</td>\n",
       "      <td>615</td>\n",
       "      <td>Architects</td>\n",
       "      <td>Big Data Solution Architect</td>\n",
       "      <td>Full Time</td>\n",
       "    </tr>\n",
       "    <tr>\n",
       "      <th>3</th>\n",
       "      <td>CBD &amp; Inner Suburbs</td>\n",
       "      <td>Engineering</td>\n",
       "      <td>Employment Office</td>\n",
       "      <td>2017-12-21</td>\n",
       "      <td>Are you an experienced Surveyor looking for an...</td>\n",
       "      <td>35131526</td>\n",
       "      <td>normalJob</td>\n",
       "      <td>Melbourne</td>\n",
       "      <td>269</td>\n",
       "      <td>Project Engineering</td>\n",
       "      <td>Surveyor Data Manager</td>\n",
       "      <td>Full Time</td>\n",
       "    </tr>\n",
       "    <tr>\n",
       "      <th>4</th>\n",
       "      <td>CBD &amp; Inner Suburbs</td>\n",
       "      <td>Engineering</td>\n",
       "      <td>Employment Office</td>\n",
       "      <td>2017-12-21</td>\n",
       "      <td>Are you an experienced Surveyor looking for an...</td>\n",
       "      <td>35131487</td>\n",
       "      <td>normalJob</td>\n",
       "      <td>Melbourne</td>\n",
       "      <td>269</td>\n",
       "      <td>Civil/Structural Engineering</td>\n",
       "      <td>Surveyor Data Manager</td>\n",
       "      <td>Full Time</td>\n",
       "    </tr>\n",
       "  </tbody>\n",
       "</table>\n",
       "</div>"
      ],
      "text/plain": [
       "                                area                                   class  \\\n",
       "0           Southern Suburbs & Logan  Information & Communication Technology   \n",
       "1     North Shore & Northern Beaches  Information & Communication Technology   \n",
       "2  CBD, Inner West & Eastern Suburbs  Information & Communication Technology   \n",
       "3                CBD & Inner Suburbs                             Engineering   \n",
       "4                CBD & Inner Suburbs                             Engineering   \n",
       "\n",
       "                      company       date  \\\n",
       "0  Opus Recruitment Solutions 2017-12-21   \n",
       "1           Spark Recruitment 2017-12-21   \n",
       "2      2XM Technology Pty Ltd 2017-12-21   \n",
       "3           Employment Office 2017-12-21   \n",
       "4           Employment Office 2017-12-21   \n",
       "\n",
       "                                         description    job_id      level  \\\n",
       "0  DATA SCIENCE SUPERSTARS\\r\\n\\r\\nMODERN OFFICES\\...  35131268  normalJob   \n",
       "1  Take ownership for the strategic development o...  35130098  normalJob   \n",
       "2  Data Solution Architect required to work on a ...  35129596  normalJob   \n",
       "3  Are you an experienced Surveyor looking for an...  35131526  normalJob   \n",
       "4  Are you an experienced Surveyor looking for an...  35131487  normalJob   \n",
       "\n",
       "    location  salary                              sub_class  \\\n",
       "0     Sydney     384  Database Development & Administration   \n",
       "1     Sydney     576       Product Management & Development   \n",
       "2     Sydney     615                             Architects   \n",
       "3  Melbourne     269                    Project Engineering   \n",
       "4  Melbourne     269           Civil/Structural Engineering   \n",
       "\n",
       "                                         title       type  \n",
       "0                           Data Science Leads  Full Time  \n",
       "1  Product Manager - Big Data / Data Analytics  Full Time  \n",
       "2                  Big Data Solution Architect  Full Time  \n",
       "3                        Surveyor Data Manager  Full Time  \n",
       "4                        Surveyor Data Manager  Full Time  "
      ]
     },
     "execution_count": 27,
     "metadata": {},
     "output_type": "execute_result"
    }
   ],
   "source": [
    "salary=scraped[scraped['salary']!=0]\n",
    "salary.reset_index(drop=True,inplace=True)\n",
    "print salary.shape\n",
    "print salary.info()\n",
    "salary.head()\n"
   ]
  },
  {
   "cell_type": "code",
   "execution_count": 28,
   "metadata": {
    "collapsed": true,
    "scrolled": true
   },
   "outputs": [],
   "source": [
    "# Saving it as an excel file for later use and analysis:\n",
    "\n",
    "salary.to_excel('./cleaned.xls')"
   ]
  },
  {
   "cell_type": "code",
   "execution_count": 33,
   "metadata": {},
   "outputs": [
    {
     "data": {
      "image/png": "[encoded data removed]",
      "text/plain": [
       "<matplotlib.figure.Figure at 0x16339630>"
      ]
     },
     "metadata": {
      "image/png": {
       "height": 250,
       "width": 392
      }
     },
     "output_type": "display_data"
    }
   ],
   "source": [
    "_=salary['salary'].hist()"
   ]
  },
  {
   "cell_type": "code",
   "execution_count": 42,
   "metadata": {},
   "outputs": [
    {
     "data": {
      "image/png": "[encoded data removed]",
      "text/plain": [
       "<matplotlib.figure.Figure at 0x16b205c0>"
      ]
     },
     "metadata": {
      "image/png": {
       "height": 250,
       "width": 397
      }
     },
     "output_type": "display_data"
    }
   ],
   "source": [
    "_=salary.salary.plot(kind='box',vert=False)"
   ]
  },
  {
   "cell_type": "code",
   "execution_count": 48,
   "metadata": {},
   "outputs": [
    {
     "data": {
      "text/plain": [
       "0       False\n",
       "1       False\n",
       "2       False\n",
       "3       False\n",
       "4       False\n",
       "5       False\n",
       "6       False\n",
       "7       False\n",
       "8       False\n",
       "9       False\n",
       "10      False\n",
       "11      False\n",
       "12      False\n",
       "13      False\n",
       "14      False\n",
       "15      False\n",
       "16      False\n",
       "17      False\n",
       "18      False\n",
       "19      False\n",
       "20      False\n",
       "21      False\n",
       "22      False\n",
       "23      False\n",
       "24      False\n",
       "25      False\n",
       "26      False\n",
       "27      False\n",
       "28      False\n",
       "29      False\n",
       "        ...  \n",
       "6103    False\n",
       "6104    False\n",
       "6105    False\n",
       "6106    False\n",
       "6107    False\n",
       "6108    False\n",
       "6109    False\n",
       "6110    False\n",
       "6111    False\n",
       "6112    False\n",
       "6113    False\n",
       "6114    False\n",
       "6115    False\n",
       "6116    False\n",
       "6117    False\n",
       "6118    False\n",
       "6119    False\n",
       "6120    False\n",
       "6121    False\n",
       "6122    False\n",
       "6123    False\n",
       "6124    False\n",
       "6125    False\n",
       "6126    False\n",
       "6127    False\n",
       "6128    False\n",
       "6129    False\n",
       "6130    False\n",
       "6131    False\n",
       "6132    False\n",
       "Name: salary, Length: 6133, dtype: bool"
      ]
     },
     "execution_count": 48,
     "metadata": {},
     "output_type": "execute_result"
    }
   ],
   "source": [
    "scraped['salary'].isnull()"
   ]
  },
  {
   "cell_type": "code",
   "execution_count": null,
   "metadata": {
    "collapsed": true
   },
   "outputs": [],
   "source": []
  },
  {
   "cell_type": "code",
   "execution_count": 1,
   "metadata": {},
   "outputs": [
    {
     "data": {
      "text/plain": [
       "199"
      ]
     },
     "execution_count": 1,
     "metadata": {},
     "output_type": "execute_result"
    }
   ],
   "source": [
    "39+3+91+59+7"
   ]
  },
  {
   "cell_type": "code",
   "execution_count": null,
   "metadata": {
    "collapsed": true
   },
   "outputs": [],
   "source": []
  }
 ],
 "metadata": {
  "kernelspec": {
   "display_name": "Python 2",
   "language": "python",
   "name": "python2"
  },
  "language_info": {
   "codemirror_mode": {
    "name": "ipython",
    "version": 2
   },
   "file_extension": ".py",
   "mimetype": "text/x-python",
   "name": "python",
   "nbconvert_exporter": "python",
   "pygments_lexer": "ipython2",
   "version": "2.7.13"
  }
 },
 "nbformat": 4,
 "nbformat_minor": 2
}
