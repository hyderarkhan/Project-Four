{
 "cells": [
  {
   "cell_type": "code",
   "execution_count": 139,
   "metadata": {
    "collapsed": true
   },
   "outputs": [],
   "source": [
    "%run helpers.py\n",
    "%run helpers-Copy1.py\n",
    "%matplotlib inline\n",
    "%config InlineBackend.figure_format = 'retina'\n"
   ]
  },
  {
   "cell_type": "code",
   "execution_count": 140,
   "metadata": {},
   "outputs": [],
   "source": [
    "data=pd.read_excel('./cleaned.xls')"
   ]
  },
  {
   "cell_type": "code",
   "execution_count": 141,
   "metadata": {},
   "outputs": [
    {
     "data": {
      "text/plain": [
       "Index([u'area', u'class', u'company', u'date', u'description', u'job_id',\n",
       "       u'level', u'location', u'salary', u'sub_class', u'title', u'type'],\n",
       "      dtype='object')"
      ]
     },
     "execution_count": 141,
     "metadata": {},
     "output_type": "execute_result"
    }
   ],
   "source": [
    "data.columns"
   ]
  },
  {
   "cell_type": "code",
   "execution_count": 142,
   "metadata": {},
   "outputs": [
    {
     "name": "stdout",
     "output_type": "stream",
     "text": [
      "(4335, 12)\n",
      "<class 'pandas.core.frame.DataFrame'>\n",
      "RangeIndex: 4335 entries, 0 to 4334\n",
      "Data columns (total 12 columns):\n",
      "area           4335 non-null object\n",
      "class          4335 non-null object\n",
      "company        4335 non-null object\n",
      "date           4335 non-null datetime64[ns]\n",
      "description    4335 non-null object\n",
      "job_id         4335 non-null int64\n",
      "level          4335 non-null object\n",
      "location       4335 non-null object\n",
      "salary         4335 non-null int64\n",
      "sub_class      4335 non-null object\n",
      "title          4335 non-null object\n",
      "type           4335 non-null object\n",
      "dtypes: datetime64[ns](1), int64(2), object(9)\n",
      "memory usage: 406.5+ KB\n",
      "None\n"
     ]
    },
    {
     "data": {
      "text/html": [
       "<div>\n",
       "<style>\n",
       "    .dataframe thead tr:only-child th {\n",
       "        text-align: right;\n",
       "    }\n",
       "\n",
       "    .dataframe thead th {\n",
       "        text-align: left;\n",
       "    }\n",
       "\n",
       "    .dataframe tbody tr th {\n",
       "        vertical-align: top;\n",
       "    }\n",
       "</style>\n",
       "<table border=\"1\" class=\"dataframe\">\n",
       "  <thead>\n",
       "    <tr style=\"text-align: right;\">\n",
       "      <th></th>\n",
       "      <th>area</th>\n",
       "      <th>class</th>\n",
       "      <th>company</th>\n",
       "      <th>date</th>\n",
       "      <th>description</th>\n",
       "      <th>job_id</th>\n",
       "      <th>level</th>\n",
       "      <th>location</th>\n",
       "      <th>salary</th>\n",
       "      <th>sub_class</th>\n",
       "      <th>title</th>\n",
       "      <th>type</th>\n",
       "    </tr>\n",
       "  </thead>\n",
       "  <tbody>\n",
       "    <tr>\n",
       "      <th>0</th>\n",
       "      <td>Southern Suburbs &amp; Logan</td>\n",
       "      <td>Information &amp; Communication Technology</td>\n",
       "      <td>Opus Recruitment Solutions</td>\n",
       "      <td>2017-12-21</td>\n",
       "      <td>DATA SCIENCE SUPERSTARS\\r\\n\\r\\nMODERN OFFICES\\...</td>\n",
       "      <td>35131268</td>\n",
       "      <td>normalJob</td>\n",
       "      <td>Sydney</td>\n",
       "      <td>384</td>\n",
       "      <td>Database Development &amp; Administration</td>\n",
       "      <td>Data Science Leads</td>\n",
       "      <td>Full Time</td>\n",
       "    </tr>\n",
       "    <tr>\n",
       "      <th>1</th>\n",
       "      <td>North Shore &amp; Northern Beaches</td>\n",
       "      <td>Information &amp; Communication Technology</td>\n",
       "      <td>Spark Recruitment</td>\n",
       "      <td>2017-12-21</td>\n",
       "      <td>Take ownership for the strategic development o...</td>\n",
       "      <td>35130098</td>\n",
       "      <td>normalJob</td>\n",
       "      <td>Sydney</td>\n",
       "      <td>576</td>\n",
       "      <td>Product Management &amp; Development</td>\n",
       "      <td>Product Manager - Big Data / Data Analytics</td>\n",
       "      <td>Full Time</td>\n",
       "    </tr>\n",
       "    <tr>\n",
       "      <th>2</th>\n",
       "      <td>CBD, Inner West &amp; Eastern Suburbs</td>\n",
       "      <td>Information &amp; Communication Technology</td>\n",
       "      <td>2XM Technology Pty Ltd</td>\n",
       "      <td>2017-12-21</td>\n",
       "      <td>Data Solution Architect required to work on a ...</td>\n",
       "      <td>35129596</td>\n",
       "      <td>normalJob</td>\n",
       "      <td>Sydney</td>\n",
       "      <td>615</td>\n",
       "      <td>Architects</td>\n",
       "      <td>Big Data Solution Architect</td>\n",
       "      <td>Full Time</td>\n",
       "    </tr>\n",
       "    <tr>\n",
       "      <th>3</th>\n",
       "      <td>CBD &amp; Inner Suburbs</td>\n",
       "      <td>Engineering</td>\n",
       "      <td>Employment Office</td>\n",
       "      <td>2017-12-21</td>\n",
       "      <td>Are you an experienced Surveyor looking for an...</td>\n",
       "      <td>35131526</td>\n",
       "      <td>normalJob</td>\n",
       "      <td>Melbourne</td>\n",
       "      <td>269</td>\n",
       "      <td>Project Engineering</td>\n",
       "      <td>Surveyor Data Manager</td>\n",
       "      <td>Full Time</td>\n",
       "    </tr>\n",
       "    <tr>\n",
       "      <th>4</th>\n",
       "      <td>CBD &amp; Inner Suburbs</td>\n",
       "      <td>Engineering</td>\n",
       "      <td>Employment Office</td>\n",
       "      <td>2017-12-21</td>\n",
       "      <td>Are you an experienced Surveyor looking for an...</td>\n",
       "      <td>35131487</td>\n",
       "      <td>normalJob</td>\n",
       "      <td>Melbourne</td>\n",
       "      <td>269</td>\n",
       "      <td>Civil/Structural Engineering</td>\n",
       "      <td>Surveyor Data Manager</td>\n",
       "      <td>Full Time</td>\n",
       "    </tr>\n",
       "  </tbody>\n",
       "</table>\n",
       "</div>"
      ],
      "text/plain": [
       "                                area                                   class  \\\n",
       "0           Southern Suburbs & Logan  Information & Communication Technology   \n",
       "1     North Shore & Northern Beaches  Information & Communication Technology   \n",
       "2  CBD, Inner West & Eastern Suburbs  Information & Communication Technology   \n",
       "3                CBD & Inner Suburbs                             Engineering   \n",
       "4                CBD & Inner Suburbs                             Engineering   \n",
       "\n",
       "                      company       date  \\\n",
       "0  Opus Recruitment Solutions 2017-12-21   \n",
       "1           Spark Recruitment 2017-12-21   \n",
       "2      2XM Technology Pty Ltd 2017-12-21   \n",
       "3           Employment Office 2017-12-21   \n",
       "4           Employment Office 2017-12-21   \n",
       "\n",
       "                                         description    job_id      level  \\\n",
       "0  DATA SCIENCE SUPERSTARS\\r\\n\\r\\nMODERN OFFICES\\...  35131268  normalJob   \n",
       "1  Take ownership for the strategic development o...  35130098  normalJob   \n",
       "2  Data Solution Architect required to work on a ...  35129596  normalJob   \n",
       "3  Are you an experienced Surveyor looking for an...  35131526  normalJob   \n",
       "4  Are you an experienced Surveyor looking for an...  35131487  normalJob   \n",
       "\n",
       "    location  salary                              sub_class  \\\n",
       "0     Sydney     384  Database Development & Administration   \n",
       "1     Sydney     576       Product Management & Development   \n",
       "2     Sydney     615                             Architects   \n",
       "3  Melbourne     269                    Project Engineering   \n",
       "4  Melbourne     269           Civil/Structural Engineering   \n",
       "\n",
       "                                         title       type  \n",
       "0                           Data Science Leads  Full Time  \n",
       "1  Product Manager - Big Data / Data Analytics  Full Time  \n",
       "2                  Big Data Solution Architect  Full Time  \n",
       "3                        Surveyor Data Manager  Full Time  \n",
       "4                        Surveyor Data Manager  Full Time  "
      ]
     },
     "execution_count": 142,
     "metadata": {},
     "output_type": "execute_result"
    }
   ],
   "source": [
    "print data.shape\n",
    "print data.info()\n",
    "data.head()"
   ]
  },
  {
   "cell_type": "code",
   "execution_count": 143,
   "metadata": {},
   "outputs": [
    {
     "name": "stdout",
     "output_type": "stream",
     "text": [
      "19\n",
      "30\n",
      "258\n",
      "1110\n"
     ]
    }
   ],
   "source": [
    "print len(data['area'].value_counts())\n",
    "print len(data['class'].value_counts())\n",
    "print len(data['sub_class'].value_counts())\n",
    "print len(data['company'].value_counts())"
   ]
  },
  {
   "cell_type": "markdown",
   "metadata": {},
   "source": [
    "### Dummy Creation"
   ]
  },
  {
   "cell_type": "raw",
   "metadata": {},
   "source": [
    "Creating dummies out of different features but i will be only using six :\n",
    "1) Location: Melb, Syd, Perth,etc including regional areas\n",
    "2) Type: fulltime, part-time,etc\n",
    "3) Class(Industry)\n",
    "4) Area: specific areas within each location\n",
    "5) Title\n",
    "6) Description\n",
    "\n",
    "I added a prefix to each dummy in order to differentiate between the dummies when i put them in one dataframe\n",
    "\n",
    "I didn't use Job_id and Level cause there pretty much useless \n",
    "I made dummies for 'sub_class' and 'company' but wasn't sure about them"
   ]
  },
  {
   "cell_type": "code",
   "execution_count": 144,
   "metadata": {
    "collapsed": true
   },
   "outputs": [],
   "source": [
    "location_dummy = pd.get_dummies(data.location, prefix='location')\n",
    "type_dummy = pd.get_dummies(data.type, prefix='type')\n",
    "class_dummy = pd.get_dummies(data['class'], prefix='class')\n",
    "area_dummy=pd.get_dummies(data.area, prefix='area')\n",
    "\n",
    "\n",
    "company_dummy=pd.get_dummies(data.company, prefix='level')\n",
    "sub_class_dummy=pd.get_dummies(data.sub_class, prefix='level')"
   ]
  },
  {
   "cell_type": "markdown",
   "metadata": {},
   "source": [
    "#### Title column cleaning to make Dummy"
   ]
  },
  {
   "cell_type": "code",
   "execution_count": 145,
   "metadata": {
    "collapsed": true
   },
   "outputs": [],
   "source": [
    "#using these to sort out title and description in order to create dummies\n",
    "letters=string.letters\n",
    "numbers=string.digits\n",
    "elements=string.punctuation"
   ]
  },
  {
   "cell_type": "code",
   "execution_count": 146,
   "metadata": {},
   "outputs": [
    {
     "data": {
      "text/plain": [
       "[['dat', u'sci', 'lead'],\n",
       " ['produc', 'man', 'big', 'dat', 'dat', u'analys'],\n",
       " ['big', 'dat', u'solv', 'architect'],\n",
       " ['survey', 'dat', 'man'],\n",
       " ['survey', 'dat', 'man'],\n",
       " ['dat', 'sci', u'cryptocur'],\n",
       " [u'busy', 'dat', 'analyst', 'pow', 'bi', 'develop'],\n",
       " ['dat', 'insight', 'analyst'],\n",
       " ['research', 'analyst', 'dat', 'sci', 'hedg', 'fund'],\n",
       " ['dat', 'architect', 'lucr', 'contract', 'fs', 'sydney', 'cbd']]"
      ]
     },
     "execution_count": 146,
     "metadata": {},
     "output_type": "execute_result"
    }
   ],
   "source": [
    "#Here i am stemming in order to get to the root word so that all similar words [science, sciences, scientist] become one.\n",
    "\n",
    "import unicodedata\n",
    "from nltk.stem.lancaster import LancasterStemmer\n",
    "lan_stem = LancasterStemmer()# intializing the stemmer\n",
    "lem=[]\n",
    "\n",
    "for item in data['title']:\n",
    "    r=unicodedata.normalize('NFKD', item).encode('ascii','ignore')# turning it into useable string\n",
    "    lemm=r.split(' ')#spliting the words in the string\n",
    "    \n",
    "    for n,it in enumerate(lemm):\n",
    "        #removing punctuation and lowercasing each word\n",
    "        all=string.maketrans('','')\n",
    "        noelements=it.translate(all, elements)\n",
    "        nonumbers=noelements.translate(all, numbers)\n",
    "        lemm[n]=lan_stem.stem(nonumbers.lower())\n",
    "        \n",
    "    str_list = filter(None, lemm)#removing empty spaces in the list\n",
    "    lem.append(str_list)#appending each str_list(list) to lem(another string)\n",
    "lem[:10]"
   ]
  },
  {
   "cell_type": "code",
   "execution_count": 147,
   "metadata": {},
   "outputs": [
    {
     "data": {
      "text/plain": [
       "[u'dat sci lead',\n",
       " u'produc man big dat dat analys',\n",
       " u'big dat solv architect',\n",
       " 'survey dat man',\n",
       " 'survey dat man',\n",
       " u'dat sci cryptocur',\n",
       " u'busy dat analyst pow bi develop',\n",
       " 'dat insight analyst',\n",
       " 'research analyst dat sci hedg fund',\n",
       " 'dat architect lucr contract fs sydney cbd']"
      ]
     },
     "execution_count": 147,
     "metadata": {},
     "output_type": "execute_result"
    }
   ],
   "source": [
    "#joining them back into one string after stemming and removing unnecessary elements\n",
    "for n,item in enumerate(lem):\n",
    "    str1 = ' '.join(item)\n",
    "    lem[n]=str1\n",
    "lem[:10]"
   ]
  },
  {
   "cell_type": "code",
   "execution_count": 148,
   "metadata": {
    "collapsed": true
   },
   "outputs": [],
   "source": [
    "#re-valuing the title column to create dummies\n",
    "data['title']=lem"
   ]
  },
  {
   "cell_type": "code",
   "execution_count": 149,
   "metadata": {},
   "outputs": [
    {
     "data": {
      "text/plain": [
       "title_busy analyst    184\n",
       "title_project man      91\n",
       "title_busy develop     87\n",
       "title_man account      84\n",
       "title_develop man      82\n",
       "dtype: int64"
      ]
     },
     "execution_count": 149,
     "metadata": {},
     "output_type": "execute_result"
    }
   ],
   "source": [
    "# Here i create a dataframe of words from the title column:\n",
    "from sklearn.feature_extraction.text import CountVectorizer\n",
    "\n",
    "#Setting the vectorizer just like we would set a model and it will count the word in singles and any pair it can make\n",
    "#Also the useless words are removed\n",
    "cvec = CountVectorizer(stop_words = \"english\",ngram_range=(2,2))\n",
    "\n",
    "#Fitting the vectorizer on our training data\n",
    "cvec.fit(data['title'])\n",
    "\n",
    "# The values are 0 or 1 if they exist in the that title/row\n",
    "X_train = pd.DataFrame(cvec.transform(data[\"title\"]).todense(),\n",
    "                     columns = cvec.get_feature_names())\n",
    "\n",
    "#adding a prefix to be able to differentiate between dummies\n",
    "X_train=X_train.add_prefix('title_')\n",
    " \n",
    "words_counts = X_train.sum(axis=0)\n",
    "words_counts.sort_values(ascending = False).head()"
   ]
  },
  {
   "cell_type": "markdown",
   "metadata": {},
   "source": [
    "#### Description column cleaning to make dummy"
   ]
  },
  {
   "cell_type": "code",
   "execution_count": 150,
   "metadata": {},
   "outputs": [
    {
     "name": "stdout",
     "output_type": "stream",
     "text": [
      "[['dat', u'sci', 'superstars\\r\\n\\r\\nmodern', 'offices\\r\\n\\r\\nsyd', 'cbd\\r\\n\\r\\nattractive', 'sal'], ['tak', 'own', 'for', 'the', 'strategic', 'develop', 'of', 'thes', 'larg', 'scal', 'big', 'dat', 'dat', u'analys', 'produc', 'thi', 'rol', 'is', 'glob', 'focus', 'so', 'off', 'scal'], ['dat', u'solv', 'architect', 'requir', 'to', 'work', 'on', 'a', u'mass', 'new', 'big', 'dat', 'impl', 'project'], ['ar', 'you', 'an', u'expery', 'survey', 'look', 'for', 'an', 'off', 'bas', 'rol', 'do', 'you', 'hav', 'civilcommerc', u'expery', 'join', 'thi', 'grow', 'org', 'on', 'a', 'ft', 'bas'], ['ar', 'you', 'an', u'expery', 'survey', 'look', 'for', 'an', 'off', 'bas', 'rol', 'do', 'you', 'hav', 'civilcommerc', u'expery', 'join', 'thi', 'grow', 'org', 'on', 'a', 'ft', 'bas']]\n",
      "[u'dat sci superstars\\r\\n\\r\\nmodern offices\\r\\n\\r\\nsyd cbd\\r\\n\\r\\nattractive sal', u'tak own for the strategic develop of thes larg scal big dat dat analys produc thi rol is glob focus so off scal', u'dat solv architect requir to work on a mass new big dat impl project', u'ar you an expery survey look for an off bas rol do you hav civilcommerc expery join thi grow org on a ft bas', u'ar you an expery survey look for an off bas rol do you hav civilcommerc expery join thi grow org on a ft bas']\n"
     ]
    }
   ],
   "source": [
    "lem=[]\n",
    "\n",
    "for item in data['description']:\n",
    "    r=unicodedata.normalize('NFKD', item).encode('ascii','ignore')# turning it into useable string\n",
    "    lemm=r.split(' ')#spliting the words in the string\n",
    "    \n",
    "    for n,it in enumerate(lemm):\n",
    "        all=string.maketrans('','')\n",
    "        noelements=it.translate(all, elements)\n",
    "        nonumbers=noelements.translate(all, numbers)\n",
    "        lemm[n]=lan_stem.stem(nonumbers.lower())\n",
    "        \n",
    "    str_list = filter(None, lemm)#removing empty spaces in the list\n",
    "    lem.append(str_list)#appending each str_list(list) to lem(another string)\n",
    "\n",
    "for n,item in enumerate(lem):\n",
    "    str1 = ' '.join(item)\n",
    "    lem[n]=str1\n",
    "print lem[:5]\n",
    "\n",
    "data['description']=lem"
   ]
  },
  {
   "cell_type": "code",
   "execution_count": 151,
   "metadata": {},
   "outputs": [
    {
     "data": {
      "text/plain": [
       "description_opportun    940\n",
       "description_join        862\n",
       "description_man         822\n",
       "description_team        792\n",
       "description_expery      748\n",
       "dtype: int64"
      ]
     },
     "execution_count": 151,
     "metadata": {},
     "output_type": "execute_result"
    }
   ],
   "source": [
    "cvec = CountVectorizer(stop_words = \"english\",ngram_range=(1,1))\n",
    "\n",
    "cvec.fit(data['description'])\n",
    "\n",
    "D_train = pd.DataFrame(cvec.transform(data[\"description\"]).todense(),\n",
    "                     columns = cvec.get_feature_names())\n",
    "\n",
    "D_train=D_train.add_prefix('description_')\n",
    " \n",
    "words_counts = D_train.sum(axis=0)\n",
    "words_counts.sort_values(ascending = False).head()"
   ]
  },
  {
   "cell_type": "code",
   "execution_count": null,
   "metadata": {
    "collapsed": true
   },
   "outputs": [],
   "source": []
  },
  {
   "cell_type": "markdown",
   "metadata": {},
   "source": [
    "### Making a dataframe out of the Dummies"
   ]
  },
  {
   "cell_type": "code",
   "execution_count": 152,
   "metadata": {
    "collapsed": true
   },
   "outputs": [],
   "source": [
    "#Making a dataframe out of the dummies\n",
    "dummies=pd.concat([class_dummy,location_dummy,type_dummy,area_dummy],axis=1)\n",
    "#resetting to allow concatenation between dummies and title dummy(X_train)\n",
    "dummies.reset_index(drop=True,inplace=True)"
   ]
  },
  {
   "cell_type": "code",
   "execution_count": 153,
   "metadata": {},
   "outputs": [
    {
     "name": "stdout",
     "output_type": "stream",
     "text": [
      "<class 'pandas.core.frame.DataFrame'>\n",
      "RangeIndex: 4335 entries, 0 to 4334\n",
      "Columns: 8853 entries, class_Accounting to description_zest\n",
      "dtypes: int64(8750), uint8(103)\n",
      "memory usage: 289.8 MB\n"
     ]
    }
   ],
   "source": [
    "# adding the title dummy to the other dummies after resetting index\n",
    "dum=pd.concat([dummies,X_train,D_train],axis=1)\n",
    "dum.info()"
   ]
  },
  {
   "cell_type": "markdown",
   "metadata": {},
   "source": [
    "# Modelling:\n",
    "### Liner Regression"
   ]
  },
  {
   "cell_type": "code",
   "execution_count": 154,
   "metadata": {
    "collapsed": true
   },
   "outputs": [],
   "source": [
    "lm = LinearRegression()\n",
    "\n",
    "X = dum\n",
    "y = data.salary"
   ]
  },
  {
   "cell_type": "code",
   "execution_count": 155,
   "metadata": {
    "collapsed": true
   },
   "outputs": [],
   "source": [
    "model = lm.fit(X, y)"
   ]
  },
  {
   "cell_type": "code",
   "execution_count": 156,
   "metadata": {
    "collapsed": true
   },
   "outputs": [],
   "source": [
    "predictions  =  model.predict(X)\n",
    "score        =  model.score(X, y)"
   ]
  },
  {
   "cell_type": "code",
   "execution_count": 157,
   "metadata": {},
   "outputs": [
    {
     "data": {
      "image/png": "[encoded data removed]",
      "text/plain": [
       "<matplotlib.figure.Figure at 0x16c3bba8>"
      ]
     },
     "metadata": {
      "image/png": {
       "height": 484,
       "width": 514
      }
     },
     "output_type": "display_data"
    },
    {
     "name": "stdout",
     "output_type": "stream",
     "text": [
      "score:  0.998935183803\n"
     ]
    }
   ],
   "source": [
    "# Plot the model\n",
    "plt.figure(figsize=(8,8))\n",
    "plt.scatter(predictions, y, s=30, c='r', marker='+', zorder=10)\n",
    "plt.xlabel(\"Predicted Values of salary - $\\hat{y}$\")\n",
    "plt.ylabel(\"Actual Values salary - y\")\n",
    "plt.show()\n",
    "\n",
    "print \"score: \", score"
   ]
  },
  {
   "cell_type": "code",
   "execution_count": 158,
   "metadata": {},
   "outputs": [
    {
     "name": "stdout",
     "output_type": "stream",
     "text": [
      "8853\n"
     ]
    },
    {
     "data": {
      "text/plain": [
       "array([ -4.75343305e+13,  -4.75343305e+13,  -4.75343305e+13, ...,\n",
       "        -3.09332229e+12,   3.18197444e+13,  -1.60266044e+12])"
      ]
     },
     "execution_count": 158,
     "metadata": {},
     "output_type": "execute_result"
    }
   ],
   "source": [
    "print len(model.coef_)\n",
    "model.coef_"
   ]
  },
  {
   "cell_type": "code",
   "execution_count": 159,
   "metadata": {},
   "outputs": [
    {
     "name": "stdout",
     "output_type": "stream",
     "text": [
      "836\n"
     ]
    }
   ],
   "source": [
    "from collections import Counter\n",
    "\n",
    "#to see how many columns have the same coefficients:\n",
    "print len(model.coef_)-len(Counter(model.coef_).keys())"
   ]
  },
  {
   "cell_type": "code",
   "execution_count": 160,
   "metadata": {},
   "outputs": [
    {
     "data": {
      "text/html": [
       "<div>\n",
       "<style>\n",
       "    .dataframe thead tr:only-child th {\n",
       "        text-align: right;\n",
       "    }\n",
       "\n",
       "    .dataframe thead th {\n",
       "        text-align: left;\n",
       "    }\n",
       "\n",
       "    .dataframe tbody tr th {\n",
       "        vertical-align: top;\n",
       "    }\n",
       "</style>\n",
       "<table border=\"1\" class=\"dataframe\">\n",
       "  <thead>\n",
       "    <tr style=\"text-align: right;\">\n",
       "      <th></th>\n",
       "      <th>class_Accounting</th>\n",
       "      <th>class_Administration &amp; Office Support</th>\n",
       "      <th>class_Advertising, Arts &amp; Media</th>\n",
       "      <th>class_Banking &amp; Financial Services</th>\n",
       "      <th>class_CEO &amp; General Management</th>\n",
       "      <th>class_Call Centre &amp; Customer Service</th>\n",
       "      <th>class_Community Services &amp; Development</th>\n",
       "      <th>class_Construction</th>\n",
       "      <th>class_Consulting &amp; Strategy</th>\n",
       "      <th>class_Design &amp; Architecture</th>\n",
       "      <th>...</th>\n",
       "      <th>description_yennor</th>\n",
       "      <th>description_yo</th>\n",
       "      <th>description_yoorall</th>\n",
       "      <th>description_youl</th>\n",
       "      <th>description_young</th>\n",
       "      <th>description_youth</th>\n",
       "      <th>description_youv</th>\n",
       "      <th>description_yr</th>\n",
       "      <th>description_zealand</th>\n",
       "      <th>description_zest</th>\n",
       "    </tr>\n",
       "  </thead>\n",
       "  <tbody>\n",
       "    <tr>\n",
       "      <th>0</th>\n",
       "      <td>-4.753433e+13</td>\n",
       "      <td>-4.753433e+13</td>\n",
       "      <td>-4.753433e+13</td>\n",
       "      <td>-4.753433e+13</td>\n",
       "      <td>5.611271e+13</td>\n",
       "      <td>-4.753433e+13</td>\n",
       "      <td>-4.753433e+13</td>\n",
       "      <td>-4.753433e+13</td>\n",
       "      <td>-4.753433e+13</td>\n",
       "      <td>-4.383480e+13</td>\n",
       "      <td>...</td>\n",
       "      <td>-5.421564e+12</td>\n",
       "      <td>4.975431e+10</td>\n",
       "      <td>2.230155e+12</td>\n",
       "      <td>-5.924268e+12</td>\n",
       "      <td>-3.157850e+12</td>\n",
       "      <td>-3.752128e+13</td>\n",
       "      <td>4.693838e+12</td>\n",
       "      <td>-3.093322e+12</td>\n",
       "      <td>3.181974e+13</td>\n",
       "      <td>-1.602660e+12</td>\n",
       "    </tr>\n",
       "  </tbody>\n",
       "</table>\n",
       "<p>1 rows × 8853 columns</p>\n",
       "</div>"
      ],
      "text/plain": [
       "   class_Accounting  class_Administration & Office Support  \\\n",
       "0     -4.753433e+13                          -4.753433e+13   \n",
       "\n",
       "   class_Advertising, Arts & Media  class_Banking & Financial Services  \\\n",
       "0                    -4.753433e+13                       -4.753433e+13   \n",
       "\n",
       "   class_CEO & General Management  class_Call Centre & Customer Service  \\\n",
       "0                    5.611271e+13                         -4.753433e+13   \n",
       "\n",
       "   class_Community Services & Development  class_Construction  \\\n",
       "0                           -4.753433e+13       -4.753433e+13   \n",
       "\n",
       "   class_Consulting & Strategy  class_Design & Architecture        ...         \\\n",
       "0                -4.753433e+13                -4.383480e+13        ...          \n",
       "\n",
       "   description_yennor  description_yo  description_yoorall  description_youl  \\\n",
       "0       -5.421564e+12    4.975431e+10         2.230155e+12     -5.924268e+12   \n",
       "\n",
       "   description_young  description_youth  description_youv  description_yr  \\\n",
       "0      -3.157850e+12      -3.752128e+13      4.693838e+12   -3.093322e+12   \n",
       "\n",
       "   description_zealand  description_zest  \n",
       "0         3.181974e+13     -1.602660e+12  \n",
       "\n",
       "[1 rows x 8853 columns]"
      ]
     },
     "execution_count": 160,
     "metadata": {},
     "output_type": "execute_result"
    }
   ],
   "source": [
    "#creating a dateframe for the coefficients its X predictor:\n",
    "coef=pd.DataFrame([model.coef_], columns=dum.columns)\n",
    "coef"
   ]
  },
  {
   "cell_type": "code",
   "execution_count": 163,
   "metadata": {},
   "outputs": [
    {
     "data": {
      "text/plain": [
       "location_Somerset                     3.931242e+14\n",
       "title_analys big                      2.283985e+14\n",
       "title_ag car                          2.052147e+14\n",
       "title_analystchang man                2.029474e+14\n",
       "title_account ag                      2.016132e+14\n",
       "description_vehic                     1.946278e+14\n",
       "title_account firm                    1.868185e+14\n",
       "title_apply sqlvbaexcel               1.820677e+14\n",
       "title_account asx                     1.694070e+14\n",
       "area_Rockingham & Kwinana             1.517283e+14\n",
       "title_adv technolog                   1.502796e+14\n",
       "title_asx list                        1.441643e+14\n",
       "title_man ag                          1.420035e+14\n",
       "title_aborigin ident                  1.416951e+14\n",
       "title_account educ                    1.409181e+14\n",
       "title_administratoranalyst project    1.311406e+14\n",
       "title_account lead                    1.280579e+14\n",
       "title_fin administratoranalyst        1.221975e+14\n",
       "title_account nd                      1.189929e+14\n",
       "title_account mon                     1.182387e+14\n",
       "title_admin repres                    1.146570e+14\n",
       "title_assist onsit                    1.121788e+14\n",
       "title_access equip                    1.119556e+14\n",
       "title_aborigin lit                    1.117863e+14\n",
       "class_Self Employment                 1.068269e+14\n",
       "location_Kalgoorlie,                  1.060627e+14\n",
       "title_analys skil                     9.736186e+13\n",
       "title_purchas plu                     9.720736e+13\n",
       "title_account parramatt               9.474309e+13\n",
       "description_sqlvbaexcel               8.991716e+13\n",
       "dtype: float64"
      ]
     },
     "execution_count": 163,
     "metadata": {},
     "output_type": "execute_result"
    }
   ],
   "source": [
    "coef=coef.abs()\n",
    "coef.sum().sort_values(ascending=False).head(30)"
   ]
  },
  {
   "cell_type": "markdown",
   "metadata": {
    "collapsed": true
   },
   "source": [
    "### Decision Trees:"
   ]
  },
  {
   "cell_type": "code",
   "execution_count": 164,
   "metadata": {
    "collapsed": true
   },
   "outputs": [],
   "source": [
    "from sklearn.tree import DecisionTreeClassifier, DecisionTreeRegressor\n",
    "\n",
    "\n",
    "X, Y = dum, data.salary\n",
    "\n",
    "classifier = DecisionTreeClassifier(criterion='gini',\n",
    "                                    max_depth=None)\n",
    "\n",
    "\n",
    "regressor = DecisionTreeRegressor(criterion='mse',\n",
    "                                  max_depth=5)\n",
    "regress= regressor.fit(X, Y)\n",
    "\n",
    "Y_pred = regressor.predict(X)\n",
    "score  =  regress.score(X, y)\n",
    "\n",
    "# decision trees can give us feature importances. the higher the number the more important\n",
    "feature_importances = regressor.feature_importances_\n"
   ]
  },
  {
   "cell_type": "code",
   "execution_count": 165,
   "metadata": {},
   "outputs": [
    {
     "name": "stdout",
     "output_type": "stream",
     "text": [
      "[ 421.67777778  421.67777778  421.67777778 ...,  550.57471264  421.67777778\n",
      "  368.35989492]\n",
      "0.311119134758\n"
     ]
    }
   ],
   "source": [
    "print Y_pred\n",
    "print score "
   ]
  },
  {
   "cell_type": "code",
   "execution_count": 166,
   "metadata": {},
   "outputs": [
    {
     "data": {
      "image/png": "[encoded data removed]",
      "text/plain": [
       "<matplotlib.figure.Figure at 0x1ed44f60>"
      ]
     },
     "metadata": {
      "image/png": {
       "height": 484,
       "width": 519
      }
     },
     "output_type": "display_data"
    },
    {
     "name": "stdout",
     "output_type": "stream",
     "text": [
      "score:  0.311119134758\n"
     ]
    }
   ],
   "source": [
    "# Plot the model\n",
    "plt.figure(figsize=(8,8))\n",
    "plt.scatter(Y_pred, Y, s=30, c='r', marker='+', zorder=10)\n",
    "plt.xlabel(\"Predicted Values of salary - $\\hat{y}$\")\n",
    "plt.ylabel(\"Actual Values salary - y\")\n",
    "plt.show()\n",
    "\n",
    "print \"score: \", score"
   ]
  },
  {
   "cell_type": "code",
   "execution_count": 167,
   "metadata": {},
   "outputs": [
    {
     "data": {
      "text/plain": [
       "8853"
      ]
     },
     "execution_count": 167,
     "metadata": {},
     "output_type": "execute_result"
    }
   ],
   "source": [
    "len(feature_importances)"
   ]
  },
  {
   "cell_type": "code",
   "execution_count": 168,
   "metadata": {},
   "outputs": [
    {
     "data": {
      "text/html": [
       "<div>\n",
       "<style>\n",
       "    .dataframe thead tr:only-child th {\n",
       "        text-align: right;\n",
       "    }\n",
       "\n",
       "    .dataframe thead th {\n",
       "        text-align: left;\n",
       "    }\n",
       "\n",
       "    .dataframe tbody tr th {\n",
       "        vertical-align: top;\n",
       "    }\n",
       "</style>\n",
       "<table border=\"1\" class=\"dataframe\">\n",
       "  <thead>\n",
       "    <tr style=\"text-align: right;\">\n",
       "      <th></th>\n",
       "      <th>class_Accounting</th>\n",
       "      <th>class_Administration &amp; Office Support</th>\n",
       "      <th>class_Advertising, Arts &amp; Media</th>\n",
       "      <th>class_Banking &amp; Financial Services</th>\n",
       "      <th>class_CEO &amp; General Management</th>\n",
       "      <th>class_Call Centre &amp; Customer Service</th>\n",
       "      <th>class_Community Services &amp; Development</th>\n",
       "      <th>class_Construction</th>\n",
       "      <th>class_Consulting &amp; Strategy</th>\n",
       "      <th>class_Design &amp; Architecture</th>\n",
       "      <th>...</th>\n",
       "      <th>description_yennor</th>\n",
       "      <th>description_yo</th>\n",
       "      <th>description_yoorall</th>\n",
       "      <th>description_youl</th>\n",
       "      <th>description_young</th>\n",
       "      <th>description_youth</th>\n",
       "      <th>description_youv</th>\n",
       "      <th>description_yr</th>\n",
       "      <th>description_zealand</th>\n",
       "      <th>description_zest</th>\n",
       "    </tr>\n",
       "  </thead>\n",
       "  <tbody>\n",
       "    <tr>\n",
       "      <th>0</th>\n",
       "      <td>0.0</td>\n",
       "      <td>0.153483</td>\n",
       "      <td>0.0</td>\n",
       "      <td>0.0</td>\n",
       "      <td>0.0</td>\n",
       "      <td>0.0</td>\n",
       "      <td>0.0</td>\n",
       "      <td>0.083864</td>\n",
       "      <td>0.0</td>\n",
       "      <td>0.0</td>\n",
       "      <td>...</td>\n",
       "      <td>0.0</td>\n",
       "      <td>0.0</td>\n",
       "      <td>0.0</td>\n",
       "      <td>0.0</td>\n",
       "      <td>0.0</td>\n",
       "      <td>0.0</td>\n",
       "      <td>0.0</td>\n",
       "      <td>0.0</td>\n",
       "      <td>0.0</td>\n",
       "      <td>0.0</td>\n",
       "    </tr>\n",
       "  </tbody>\n",
       "</table>\n",
       "<p>1 rows × 8853 columns</p>\n",
       "</div>"
      ],
      "text/plain": [
       "   class_Accounting  class_Administration & Office Support  \\\n",
       "0               0.0                               0.153483   \n",
       "\n",
       "   class_Advertising, Arts & Media  class_Banking & Financial Services  \\\n",
       "0                              0.0                                 0.0   \n",
       "\n",
       "   class_CEO & General Management  class_Call Centre & Customer Service  \\\n",
       "0                             0.0                                   0.0   \n",
       "\n",
       "   class_Community Services & Development  class_Construction  \\\n",
       "0                                     0.0            0.083864   \n",
       "\n",
       "   class_Consulting & Strategy  class_Design & Architecture        ...         \\\n",
       "0                          0.0                          0.0        ...          \n",
       "\n",
       "   description_yennor  description_yo  description_yoorall  description_youl  \\\n",
       "0                 0.0             0.0                  0.0               0.0   \n",
       "\n",
       "   description_young  description_youth  description_youv  description_yr  \\\n",
       "0                0.0                0.0               0.0             0.0   \n",
       "\n",
       "   description_zealand  description_zest  \n",
       "0                  0.0               0.0  \n",
       "\n",
       "[1 rows x 8853 columns]"
      ]
     },
     "execution_count": 168,
     "metadata": {},
     "output_type": "execute_result"
    }
   ],
   "source": [
    "trees_coef=pd.DataFrame([feature_importances], columns=dum.columns)\n",
    "trees_coef"
   ]
  },
  {
   "cell_type": "code",
   "execution_count": 172,
   "metadata": {
    "scrolled": true
   },
   "outputs": [
    {
     "data": {
      "text/plain": [
       "class_Information & Communication Technology    0.392913\n",
       "class_Administration & Office Support           0.153483\n",
       "type_Full Time                                  0.103149\n",
       "class_Construction                              0.083864\n",
       "area_CBD, Inner West & Eastern Suburbs          0.045496\n",
       "title_sup invest                                0.039203\n",
       "description_support                             0.024384\n",
       "title_develop high                              0.020446\n",
       "description_busy                                0.018165\n",
       "description_nsw                                 0.018131\n",
       "description_big                                 0.017863\n",
       "title_seny account                              0.017141\n",
       "description_cbd                                 0.012629\n",
       "description_gradu                               0.011619\n",
       "title_ict categ                                 0.010730\n",
       "description_expect                              0.006744\n",
       "description_process                             0.005137\n",
       "title_execut assist                             0.004898\n",
       "title_ict program                               0.004405\n",
       "title_man acsac                                 0.003372\n",
       "title_techn support                             0.003059\n",
       "description_fin                                 0.002213\n",
       "description_austral                             0.000493\n",
       "description_work                                0.000305\n",
       "description_analys                              0.000136\n",
       "title_spm property                              0.000024\n",
       "title_malag loc                                 0.000000\n",
       "title_magento collingwood                       0.000000\n",
       "title_mailchimp wordpress                       0.000000\n",
       "title_maint analys                              0.000000\n",
       "dtype: float64"
      ]
     },
     "execution_count": 172,
     "metadata": {},
     "output_type": "execute_result"
    }
   ],
   "source": [
    "trees_coef=trees_coef.abs()\n",
    "trees_coef.sum().sort_values(ascending=False).head(30)"
   ]
  },
  {
   "cell_type": "markdown",
   "metadata": {},
   "source": [
    "### Conclusion"
   ]
  },
  {
   "cell_type": "raw",
   "metadata": {},
   "source": [
    "Both the models are positive while Linear Regression did preform alot better than Decision Trees however i believe Decision Trees is a slightly better model at providing useful Predictors such as (class_Information & Communication Technology) this is more useable and more actionable than Linear Regression\n",
    "ALthought with a bit of cleaning and poking around Linear Regression will give us useful insights and more actionable X_predictors but this will obviously require more work and is very tedious.\n",
    "\n",
    "overall i am very happy with the way i did this section"
   ]
  },
  {
   "cell_type": "code",
   "execution_count": 173,
   "metadata": {
    "collapsed": true
   },
   "outputs": [],
   "source": [
    "#saving the dummies file to use in section 2\n",
    "dummies.to_excel('./dummies.xls')"
   ]
  },
  {
   "cell_type": "code",
   "execution_count": null,
   "metadata": {
    "collapsed": true
   },
   "outputs": [],
   "source": []
  },
  {
   "cell_type": "code",
   "execution_count": null,
   "metadata": {
    "collapsed": true
   },
   "outputs": [],
   "source": []
  }
 ],
 "metadata": {
  "kernelspec": {
   "display_name": "Python 2",
   "language": "python",
   "name": "python2"
  },
  "language_info": {
   "codemirror_mode": {
    "name": "ipython",
    "version": 2
   },
   "file_extension": ".py",
   "mimetype": "text/x-python",
   "name": "python",
   "nbconvert_exporter": "python",
   "pygments_lexer": "ipython2",
   "version": "2.7.13"
  }
 },
 "nbformat": 4,
 "nbformat_minor": 2
}
